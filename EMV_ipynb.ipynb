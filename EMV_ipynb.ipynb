{
  "nbformat": 4,
  "nbformat_minor": 0,
  "metadata": {
    "colab": {
      "name": "csv.ipynb의 사본",
      "provenance": [],
      "collapsed_sections": [],
      "toc_visible": true,
      "include_colab_link": true
    },
    "kernelspec": {
      "display_name": "Python 3",
      "name": "python3"
    }
  },
  "cells": [
    {
      "cell_type": "markdown",
      "metadata": {
        "id": "view-in-github",
        "colab_type": "text"
      },
      "source": [
        "<a href=\"https://colab.research.google.com/github/whitebird118/bluetooth_keyboard/blob/master/emv_ipynb.ipynb\" target=\"_parent\"><img src=\"https://colab.research.google.com/assets/colab-badge.svg\" alt=\"Open In Colab\"/></a>"
      ]
    },
    {
      "cell_type": "markdown",
      "metadata": {
        "id": "DweYe9FcbMK_"
      },
      "source": [
        "##### Copyright 2019 The TensorFlow Authors.\n"
      ]
    },
    {
      "cell_type": "code",
      "metadata": {
        "cellView": "form",
        "id": "AVV2e0XKbJeX"
      },
      "source": [
        "#@title Licensed under the Apache License, Version 2.0 (the \"License\");\n",
        "# you may not use this file except in compliance with the License.\n",
        "# You may obtain a copy of the License at\n",
        "#\n",
        "# https://www.apache.org/licenses/LICENSE-2.0\n",
        "#\n",
        "# Unless required by applicable law or agreed to in writing, software\n",
        "# distributed under the License is distributed on an \"AS IS\" BASIS,\n",
        "# WITHOUT WARRANTIES OR CONDITIONS OF ANY KIND, either express or implied.\n",
        "# See the License for the specific language governing permissions and\n",
        "# limitations under the License."
      ],
      "execution_count": null,
      "outputs": []
    },
    {
      "cell_type": "markdown",
      "metadata": {
        "id": "sUtoed20cRJJ"
      },
      "source": [
        "# Load CSV data"
      ]
    },
    {
      "cell_type": "markdown",
      "metadata": {
        "id": "1ap_W4aQcgNT"
      },
      "source": [
        "<table class=\"tfo-notebook-buttons\" align=\"left\">\n",
        "  <td>\n",
        "    <a target=\"_blank\" href=\"https://www.tensorflow.org/tutorials/load_data/csv\"><img src=\"https://www.tensorflow.org/images/tf_logo_32px.png\" />View on TensorFlow.org</a>\n",
        "  </td>\n",
        "  <td>\n",
        "    <a target=\"_blank\" href=\"https://colab.research.google.com/github/tensorflow/docs/blob/master/site/en/tutorials/load_data/csv.ipynb\"><img src=\"https://www.tensorflow.org/images/colab_logo_32px.png\" />Run in Google Colab</a>\n",
        "  </td>\n",
        "  <td>\n",
        "    <a target=\"_blank\" href=\"https://github.com/tensorflow/docs/blob/master/site/en/tutorials/load_data/csv.ipynb\"><img src=\"https://www.tensorflow.org/images/GitHub-Mark-32px.png\" />View source on GitHub</a>\n",
        "  </td>\n",
        "  <td>\n",
        "    <a href=\"https://storage.googleapis.com/tensorflow_docs/docs/site/en/tutorials/load_data/csv.ipynb\"><img src=\"https://www.tensorflow.org/images/download_logo_32px.png\" />Download notebook</a>\n",
        "  </td>\n",
        "</table>"
      ]
    },
    {
      "cell_type": "markdown",
      "metadata": {
        "id": "C-3Xbt0FfGfs"
      },
      "source": [
        "This tutorial provides examples of how to use CSV data with TensorFlow.\n",
        "\n",
        "There are two main parts to this:\n",
        "\n",
        "1. **Loading the data off disk**\n",
        "2. **Pre-processing it into a form suitable for training.**\n",
        "\n",
        "This tutorial focuses on the loading, and gives some quick examples of preprocessing. For a tutorial that focuses on the preprocessing aspect see the [preprocessing layers guide](https://www.tensorflow.org/guide/keras/preprocessing_layers#quick_recipes) and [tutorial](https://www.tensorflow.org/tutorials/structured_data/preprocessing_layers). \n"
      ]
    },
    {
      "cell_type": "markdown",
      "metadata": {
        "id": "fgZ9gjmPfSnK"
      },
      "source": [
        "## Setup"
      ]
    },
    {
      "cell_type": "code",
      "metadata": {
        "id": "baYFZMW_bJHh"
      },
      "source": [
        "import pandas as pd\n",
        "import numpy as np\n",
        "\n",
        "# Make numpy values easier to read.\n",
        "np.set_printoptions(precision=3, suppress=True)\n",
        "\n",
        "import tensorflow as tf\n",
        "from tensorflow.keras import layers\n",
        "from tensorflow.keras.layers.experimental import preprocessing"
      ],
      "execution_count": 320,
      "outputs": []
    },
    {
      "cell_type": "markdown",
      "metadata": {
        "id": "1ZhJYbJxHNGJ"
      },
      "source": [
        "## In memory data"
      ]
    },
    {
      "cell_type": "markdown",
      "metadata": {
        "id": "ny5TEgcmHjVx"
      },
      "source": [
        "For any small CSV dataset the simplest way to train a TensorFlow model on it is to load it into memory as a pandas Dataframe or a NumPy array. \n"
      ]
    },
    {
      "cell_type": "markdown",
      "metadata": {
        "id": "LgpBOuU8PGFf"
      },
      "source": [
        "A relatively simple example is the [abalone dataset](https://archive.ics.uci.edu/ml/datasets/abalone). \n",
        "\n",
        "* The dataset is small. \n",
        "* All the input features are all limited-range floating point values. \n",
        "\n",
        "Here is how to download the data into a [Pandas `DataFrame`](https://pandas.pydata.org/pandas-docs/stable/reference/api/pandas.DataFrame.html):"
      ]
    },
    {
      "cell_type": "code",
      "metadata": {
        "id": "IZVExo9DKoNz",
        "colab": {
          "base_uri": "https://localhost:8080/",
          "height": 256
        },
        "outputId": "40e9272c-f541-441f-a950-d57359493fad"
      },
      "source": [
        "abalone_train = pd.read_csv(\n",
        "    \"https://raw.githubusercontent.com/whitebird118/bluetooth_keyboard/master/entire.csv\",\n",
        "    names=[\"1\",\"2\",\"3\",\"4\",\"5\",\"6\",\"7\",\"8\",\"9\",\"10\",\"11\",\"12\",\"13\",\"14\",\"15\",\"16\",\"17\",\"18\",\"19\",\"20\",\"21\",\"22\",\"23\",\"24\",\"25\",\"26\",\"27\",\"28\",\"29\",\"30\",\"31\",\"32\",\"33\",\"34\",\"35\",\"36\",\"37\",\"38\",\"39\",\"40\",\"41\",\"42\",\"43\",\"44\",\"45\",\"46\",\"47\",\"48\",\"49\",\"50\",\"51\",\"52\",\"53\",\"54\",\"55\",\"56\",\"57\",\"58\",\"59\",\"60\",\"61\",\"62\",\"63\",\"64\",\"65\",\"66\",\"67\",\"68\",\"69\",\"70\",\"71\",\"72\",\"73\",\"74\",\"75\",\"76\",\"77\",\"78\",\"79\",\"80\",\"81\",\"82\",\"83\",\"84\",\"85\",\"86\",\"87\",\"88\",\"89\",\"90\",\"91\",\"92\",\"93\",\"94\",\"95\",\"96\",\"97\",\"98\",\"99\",\"100\",\"101\",\"102\",\"103\",\"104\",\"105\",\"106\",\"107\",\"108\",\"109\",\"110\",\"111\",\"112\",\"113\",\"114\",\"115\",\"116\",\"117\",\"118\",\"119\",\"120\",\"121\",\"122\",\"123\",\"124\",\"125\",\"126\",\"127\",\"128\",\"129\",\"130\",\"131\",\"132\",\"133\",\"134\",\"135\",\"136\",\"137\",\"138\",\"139\",\"140\",\"141\",\"142\",\"143\",\"144\",\"145\",\"146\",\"147\",\"148\",\"149\",\"150\",\"151\",\"152\",\"153\",\"154\",\"155\",\"156\",\"157\",\"158\",\"159\",\"160\",\"161\",\"162\",\"163\",\"164\",\"165\",\"166\",\"167\",\"168\",\"169\",\"170\",\"171\",\"172\",\"173\",\"174\",\"175\",\"176\",\"177\",\"178\",\"179\",\"180\",\"181\",\"182\",\"183\",\"184\",\"185\",\"186\",\"187\",\"188\",\"189\",\"190\",\"191\",\"192\",\"193\",\"194\",\"195\",\"196\",\"197\",\"198\",\"199\",\"200\",\"201\",\"Label\"])\n",
        "\n",
        "abalone_train.head()"
      ],
      "execution_count": 411,
      "outputs": [
        {
          "output_type": "execute_result",
          "data": {
            "text/html": [
              "<div>\n",
              "<style scoped>\n",
              "    .dataframe tbody tr th:only-of-type {\n",
              "        vertical-align: middle;\n",
              "    }\n",
              "\n",
              "    .dataframe tbody tr th {\n",
              "        vertical-align: top;\n",
              "    }\n",
              "\n",
              "    .dataframe thead th {\n",
              "        text-align: right;\n",
              "    }\n",
              "</style>\n",
              "<table border=\"1\" class=\"dataframe\">\n",
              "  <thead>\n",
              "    <tr style=\"text-align: right;\">\n",
              "      <th></th>\n",
              "      <th>1</th>\n",
              "      <th>2</th>\n",
              "      <th>3</th>\n",
              "      <th>4</th>\n",
              "      <th>5</th>\n",
              "      <th>6</th>\n",
              "      <th>7</th>\n",
              "      <th>8</th>\n",
              "      <th>9</th>\n",
              "      <th>10</th>\n",
              "      <th>11</th>\n",
              "      <th>12</th>\n",
              "      <th>13</th>\n",
              "      <th>14</th>\n",
              "      <th>15</th>\n",
              "      <th>16</th>\n",
              "      <th>17</th>\n",
              "      <th>18</th>\n",
              "      <th>19</th>\n",
              "      <th>20</th>\n",
              "      <th>21</th>\n",
              "      <th>22</th>\n",
              "      <th>23</th>\n",
              "      <th>24</th>\n",
              "      <th>25</th>\n",
              "      <th>26</th>\n",
              "      <th>27</th>\n",
              "      <th>28</th>\n",
              "      <th>29</th>\n",
              "      <th>30</th>\n",
              "      <th>31</th>\n",
              "      <th>32</th>\n",
              "      <th>33</th>\n",
              "      <th>34</th>\n",
              "      <th>35</th>\n",
              "      <th>36</th>\n",
              "      <th>37</th>\n",
              "      <th>38</th>\n",
              "      <th>39</th>\n",
              "      <th>40</th>\n",
              "      <th>...</th>\n",
              "      <th>163</th>\n",
              "      <th>164</th>\n",
              "      <th>165</th>\n",
              "      <th>166</th>\n",
              "      <th>167</th>\n",
              "      <th>168</th>\n",
              "      <th>169</th>\n",
              "      <th>170</th>\n",
              "      <th>171</th>\n",
              "      <th>172</th>\n",
              "      <th>173</th>\n",
              "      <th>174</th>\n",
              "      <th>175</th>\n",
              "      <th>176</th>\n",
              "      <th>177</th>\n",
              "      <th>178</th>\n",
              "      <th>179</th>\n",
              "      <th>180</th>\n",
              "      <th>181</th>\n",
              "      <th>182</th>\n",
              "      <th>183</th>\n",
              "      <th>184</th>\n",
              "      <th>185</th>\n",
              "      <th>186</th>\n",
              "      <th>187</th>\n",
              "      <th>188</th>\n",
              "      <th>189</th>\n",
              "      <th>190</th>\n",
              "      <th>191</th>\n",
              "      <th>192</th>\n",
              "      <th>193</th>\n",
              "      <th>194</th>\n",
              "      <th>195</th>\n",
              "      <th>196</th>\n",
              "      <th>197</th>\n",
              "      <th>198</th>\n",
              "      <th>199</th>\n",
              "      <th>200</th>\n",
              "      <th>201</th>\n",
              "      <th>Label</th>\n",
              "    </tr>\n",
              "  </thead>\n",
              "  <tbody>\n",
              "    <tr>\n",
              "      <th>0</th>\n",
              "      <td>5.93</td>\n",
              "      <td>0.60</td>\n",
              "      <td>10.00</td>\n",
              "      <td>4.93</td>\n",
              "      <td>5.24</td>\n",
              "      <td>9.88</td>\n",
              "      <td>3.25</td>\n",
              "      <td>1.47</td>\n",
              "      <td>0.73</td>\n",
              "      <td>3.61</td>\n",
              "      <td>4.28</td>\n",
              "      <td>2.19</td>\n",
              "      <td>3.59</td>\n",
              "      <td>4.02</td>\n",
              "      <td>6.10</td>\n",
              "      <td>0.17</td>\n",
              "      <td>1.70</td>\n",
              "      <td>9.15</td>\n",
              "      <td>2.86</td>\n",
              "      <td>3.65</td>\n",
              "      <td>4.63</td>\n",
              "      <td>0.41</td>\n",
              "      <td>0.36</td>\n",
              "      <td>3.78</td>\n",
              "      <td>0.41</td>\n",
              "      <td>3.41</td>\n",
              "      <td>3.41</td>\n",
              "      <td>2.03</td>\n",
              "      <td>1.23</td>\n",
              "      <td>4.75</td>\n",
              "      <td>0.20</td>\n",
              "      <td>1.33</td>\n",
              "      <td>3.53</td>\n",
              "      <td>1.15</td>\n",
              "      <td>1.70</td>\n",
              "      <td>4.63</td>\n",
              "      <td>4.47</td>\n",
              "      <td>0.99</td>\n",
              "      <td>4.51</td>\n",
              "      <td>3.37</td>\n",
              "      <td>...</td>\n",
              "      <td>0.54</td>\n",
              "      <td>0.13</td>\n",
              "      <td>8.29</td>\n",
              "      <td>1.15</td>\n",
              "      <td>3.77</td>\n",
              "      <td>5.49</td>\n",
              "      <td>3.49</td>\n",
              "      <td>0.48</td>\n",
              "      <td>7.19</td>\n",
              "      <td>1.05</td>\n",
              "      <td>2.43</td>\n",
              "      <td>8.29</td>\n",
              "      <td>2.76</td>\n",
              "      <td>0.11</td>\n",
              "      <td>0.97</td>\n",
              "      <td>1.27</td>\n",
              "      <td>1.35</td>\n",
              "      <td>7.19</td>\n",
              "      <td>1.29</td>\n",
              "      <td>3.79</td>\n",
              "      <td>0.24</td>\n",
              "      <td>1.54</td>\n",
              "      <td>0.72</td>\n",
              "      <td>1.46</td>\n",
              "      <td>1.78</td>\n",
              "      <td>0.99</td>\n",
              "      <td>4.14</td>\n",
              "      <td>0.90</td>\n",
              "      <td>0.48</td>\n",
              "      <td>2.92</td>\n",
              "      <td>1.17</td>\n",
              "      <td>0.11</td>\n",
              "      <td>1.70</td>\n",
              "      <td>0.05</td>\n",
              "      <td>2.45</td>\n",
              "      <td>0.85</td>\n",
              "      <td>0.90</td>\n",
              "      <td>0.72</td>\n",
              "      <td>4.63</td>\n",
              "      <td>1</td>\n",
              "    </tr>\n",
              "    <tr>\n",
              "      <th>1</th>\n",
              "      <td>18.97</td>\n",
              "      <td>14.29</td>\n",
              "      <td>4.77</td>\n",
              "      <td>21.07</td>\n",
              "      <td>10.63</td>\n",
              "      <td>7.70</td>\n",
              "      <td>4.71</td>\n",
              "      <td>2.94</td>\n",
              "      <td>5.49</td>\n",
              "      <td>1.29</td>\n",
              "      <td>0.01</td>\n",
              "      <td>6.95</td>\n",
              "      <td>5.20</td>\n",
              "      <td>2.94</td>\n",
              "      <td>3.90</td>\n",
              "      <td>0.44</td>\n",
              "      <td>2.92</td>\n",
              "      <td>2.19</td>\n",
              "      <td>1.66</td>\n",
              "      <td>1.70</td>\n",
              "      <td>4.02</td>\n",
              "      <td>2.64</td>\n",
              "      <td>3.04</td>\n",
              "      <td>1.70</td>\n",
              "      <td>1.05</td>\n",
              "      <td>1.23</td>\n",
              "      <td>1.35</td>\n",
              "      <td>3.74</td>\n",
              "      <td>2.94</td>\n",
              "      <td>2.07</td>\n",
              "      <td>0.78</td>\n",
              "      <td>0.23</td>\n",
              "      <td>7.19</td>\n",
              "      <td>1.76</td>\n",
              "      <td>0.38</td>\n",
              "      <td>5.61</td>\n",
              "      <td>0.17</td>\n",
              "      <td>0.36</td>\n",
              "      <td>7.44</td>\n",
              "      <td>4.47</td>\n",
              "      <td>...</td>\n",
              "      <td>1.51</td>\n",
              "      <td>1.33</td>\n",
              "      <td>6.46</td>\n",
              "      <td>1.29</td>\n",
              "      <td>2.45</td>\n",
              "      <td>4.27</td>\n",
              "      <td>3.49</td>\n",
              "      <td>2.19</td>\n",
              "      <td>7.93</td>\n",
              "      <td>2.88</td>\n",
              "      <td>3.43</td>\n",
              "      <td>3.41</td>\n",
              "      <td>0.93</td>\n",
              "      <td>1.09</td>\n",
              "      <td>5.97</td>\n",
              "      <td>1.39</td>\n",
              "      <td>0.48</td>\n",
              "      <td>4.39</td>\n",
              "      <td>1.91</td>\n",
              "      <td>0.13</td>\n",
              "      <td>2.56</td>\n",
              "      <td>1.15</td>\n",
              "      <td>0.36</td>\n",
              "      <td>4.51</td>\n",
              "      <td>1.88</td>\n",
              "      <td>2.94</td>\n",
              "      <td>3.53</td>\n",
              "      <td>3.13</td>\n",
              "      <td>0.60</td>\n",
              "      <td>4.75</td>\n",
              "      <td>3.00</td>\n",
              "      <td>0.60</td>\n",
              "      <td>4.27</td>\n",
              "      <td>1.05</td>\n",
              "      <td>3.31</td>\n",
              "      <td>0.50</td>\n",
              "      <td>1.78</td>\n",
              "      <td>1.60</td>\n",
              "      <td>3.90</td>\n",
              "      <td>1</td>\n",
              "    </tr>\n",
              "    <tr>\n",
              "      <th>2</th>\n",
              "      <td>9.23</td>\n",
              "      <td>12.20</td>\n",
              "      <td>15.14</td>\n",
              "      <td>3.47</td>\n",
              "      <td>7.68</td>\n",
              "      <td>15.25</td>\n",
              "      <td>3.34</td>\n",
              "      <td>0.72</td>\n",
              "      <td>3.90</td>\n",
              "      <td>4.35</td>\n",
              "      <td>2.57</td>\n",
              "      <td>1.11</td>\n",
              "      <td>1.66</td>\n",
              "      <td>0.50</td>\n",
              "      <td>5.36</td>\n",
              "      <td>1.02</td>\n",
              "      <td>0.84</td>\n",
              "      <td>7.68</td>\n",
              "      <td>3.37</td>\n",
              "      <td>0.97</td>\n",
              "      <td>11.22</td>\n",
              "      <td>0.68</td>\n",
              "      <td>0.60</td>\n",
              "      <td>3.53</td>\n",
              "      <td>3.00</td>\n",
              "      <td>2.82</td>\n",
              "      <td>0.73</td>\n",
              "      <td>0.32</td>\n",
              "      <td>0.13</td>\n",
              "      <td>5.36</td>\n",
              "      <td>2.88</td>\n",
              "      <td>0.23</td>\n",
              "      <td>2.19</td>\n",
              "      <td>3.00</td>\n",
              "      <td>2.82</td>\n",
              "      <td>0.36</td>\n",
              "      <td>4.71</td>\n",
              "      <td>0.74</td>\n",
              "      <td>0.62</td>\n",
              "      <td>7.76</td>\n",
              "      <td>...</td>\n",
              "      <td>2.64</td>\n",
              "      <td>0.50</td>\n",
              "      <td>1.95</td>\n",
              "      <td>0.05</td>\n",
              "      <td>2.07</td>\n",
              "      <td>4.88</td>\n",
              "      <td>3.71</td>\n",
              "      <td>2.31</td>\n",
              "      <td>1.34</td>\n",
              "      <td>0.44</td>\n",
              "      <td>2.94</td>\n",
              "      <td>1.21</td>\n",
              "      <td>4.59</td>\n",
              "      <td>2.57</td>\n",
              "      <td>0.24</td>\n",
              "      <td>1.63</td>\n",
              "      <td>2.43</td>\n",
              "      <td>7.32</td>\n",
              "      <td>1.63</td>\n",
              "      <td>1.84</td>\n",
              "      <td>2.19</td>\n",
              "      <td>0.93</td>\n",
              "      <td>4.14</td>\n",
              "      <td>7.32</td>\n",
              "      <td>0.29</td>\n",
              "      <td>3.53</td>\n",
              "      <td>7.07</td>\n",
              "      <td>0.90</td>\n",
              "      <td>0.60</td>\n",
              "      <td>8.29</td>\n",
              "      <td>2.88</td>\n",
              "      <td>0.36</td>\n",
              "      <td>3.29</td>\n",
              "      <td>3.25</td>\n",
              "      <td>0.60</td>\n",
              "      <td>3.65</td>\n",
              "      <td>0.41</td>\n",
              "      <td>3.77</td>\n",
              "      <td>6.46</td>\n",
              "      <td>1</td>\n",
              "    </tr>\n",
              "    <tr>\n",
              "      <th>3</th>\n",
              "      <td>9.69</td>\n",
              "      <td>8.17</td>\n",
              "      <td>11.10</td>\n",
              "      <td>13.62</td>\n",
              "      <td>8.55</td>\n",
              "      <td>11.96</td>\n",
              "      <td>9.69</td>\n",
              "      <td>2.55</td>\n",
              "      <td>11.47</td>\n",
              "      <td>0.29</td>\n",
              "      <td>1.84</td>\n",
              "      <td>6.83</td>\n",
              "      <td>5.57</td>\n",
              "      <td>1.84</td>\n",
              "      <td>4.63</td>\n",
              "      <td>0.44</td>\n",
              "      <td>1.35</td>\n",
              "      <td>5.24</td>\n",
              "      <td>0.05</td>\n",
              "      <td>1.60</td>\n",
              "      <td>6.71</td>\n",
              "      <td>1.05</td>\n",
              "      <td>2.07</td>\n",
              "      <td>6.22</td>\n",
              "      <td>1.27</td>\n",
              "      <td>0.01</td>\n",
              "      <td>4.88</td>\n",
              "      <td>1.15</td>\n",
              "      <td>0.74</td>\n",
              "      <td>8.66</td>\n",
              "      <td>2.64</td>\n",
              "      <td>1.82</td>\n",
              "      <td>1.46</td>\n",
              "      <td>2.52</td>\n",
              "      <td>1.33</td>\n",
              "      <td>5.12</td>\n",
              "      <td>0.54</td>\n",
              "      <td>0.23</td>\n",
              "      <td>1.70</td>\n",
              "      <td>2.52</td>\n",
              "      <td>...</td>\n",
              "      <td>1.17</td>\n",
              "      <td>0.13</td>\n",
              "      <td>1.95</td>\n",
              "      <td>0.90</td>\n",
              "      <td>1.46</td>\n",
              "      <td>4.39</td>\n",
              "      <td>3.13</td>\n",
              "      <td>0.25</td>\n",
              "      <td>5.61</td>\n",
              "      <td>3.74</td>\n",
              "      <td>4.28</td>\n",
              "      <td>3.29</td>\n",
              "      <td>2.15</td>\n",
              "      <td>5.01</td>\n",
              "      <td>0.73</td>\n",
              "      <td>1.15</td>\n",
              "      <td>0.25</td>\n",
              "      <td>3.17</td>\n",
              "      <td>5.93</td>\n",
              "      <td>4.28</td>\n",
              "      <td>4.02</td>\n",
              "      <td>0.93</td>\n",
              "      <td>1.70</td>\n",
              "      <td>5.12</td>\n",
              "      <td>2.76</td>\n",
              "      <td>3.18</td>\n",
              "      <td>5.24</td>\n",
              "      <td>0.68</td>\n",
              "      <td>1.09</td>\n",
              "      <td>2.68</td>\n",
              "      <td>2.37</td>\n",
              "      <td>1.21</td>\n",
              "      <td>5.85</td>\n",
              "      <td>2.03</td>\n",
              "      <td>0.74</td>\n",
              "      <td>5.73</td>\n",
              "      <td>5.08</td>\n",
              "      <td>1.84</td>\n",
              "      <td>2.57</td>\n",
              "      <td>1</td>\n",
              "    </tr>\n",
              "    <tr>\n",
              "      <th>4</th>\n",
              "      <td>30.10</td>\n",
              "      <td>11.85</td>\n",
              "      <td>0.48</td>\n",
              "      <td>8.10</td>\n",
              "      <td>0.11</td>\n",
              "      <td>9.39</td>\n",
              "      <td>1.05</td>\n",
              "      <td>5.75</td>\n",
              "      <td>1.96</td>\n",
              "      <td>1.51</td>\n",
              "      <td>0.74</td>\n",
              "      <td>5.24</td>\n",
              "      <td>0.29</td>\n",
              "      <td>0.01</td>\n",
              "      <td>4.75</td>\n",
              "      <td>2.27</td>\n",
              "      <td>0.36</td>\n",
              "      <td>5.00</td>\n",
              "      <td>1.39</td>\n",
              "      <td>4.75</td>\n",
              "      <td>4.02</td>\n",
              "      <td>2.03</td>\n",
              "      <td>1.60</td>\n",
              "      <td>2.80</td>\n",
              "      <td>1.27</td>\n",
              "      <td>0.25</td>\n",
              "      <td>6.83</td>\n",
              "      <td>1.78</td>\n",
              "      <td>1.82</td>\n",
              "      <td>8.42</td>\n",
              "      <td>0.78</td>\n",
              "      <td>3.53</td>\n",
              "      <td>6.83</td>\n",
              "      <td>2.03</td>\n",
              "      <td>4.04</td>\n",
              "      <td>3.29</td>\n",
              "      <td>1.66</td>\n",
              "      <td>3.18</td>\n",
              "      <td>4.14</td>\n",
              "      <td>1.15</td>\n",
              "      <td>...</td>\n",
              "      <td>2.64</td>\n",
              "      <td>0.01</td>\n",
              "      <td>1.82</td>\n",
              "      <td>0.66</td>\n",
              "      <td>0.97</td>\n",
              "      <td>3.53</td>\n",
              "      <td>3.83</td>\n",
              "      <td>1.82</td>\n",
              "      <td>4.27</td>\n",
              "      <td>2.88</td>\n",
              "      <td>2.08</td>\n",
              "      <td>3.53</td>\n",
              "      <td>0.29</td>\n",
              "      <td>3.18</td>\n",
              "      <td>5.24</td>\n",
              "      <td>8.13</td>\n",
              "      <td>1.11</td>\n",
              "      <td>2.68</td>\n",
              "      <td>2.03</td>\n",
              "      <td>1.82</td>\n",
              "      <td>5.61</td>\n",
              "      <td>4.59</td>\n",
              "      <td>1.11</td>\n",
              "      <td>2.07</td>\n",
              "      <td>0.17</td>\n",
              "      <td>0.86</td>\n",
              "      <td>6.22</td>\n",
              "      <td>2.52</td>\n",
              "      <td>1.23</td>\n",
              "      <td>5.00</td>\n",
              "      <td>1.02</td>\n",
              "      <td>1.82</td>\n",
              "      <td>4.75</td>\n",
              "      <td>2.76</td>\n",
              "      <td>0.38</td>\n",
              "      <td>0.24</td>\n",
              "      <td>1.54</td>\n",
              "      <td>2.82</td>\n",
              "      <td>3.41</td>\n",
              "      <td>1</td>\n",
              "    </tr>\n",
              "  </tbody>\n",
              "</table>\n",
              "<p>5 rows × 202 columns</p>\n",
              "</div>"
            ],
            "text/plain": [
              "       1      2      3      4      5  ...   198   199   200   201  Label\n",
              "0   5.93   0.60  10.00   4.93   5.24  ...  0.85  0.90  0.72  4.63      1\n",
              "1  18.97  14.29   4.77  21.07  10.63  ...  0.50  1.78  1.60  3.90      1\n",
              "2   9.23  12.20  15.14   3.47   7.68  ...  3.65  0.41  3.77  6.46      1\n",
              "3   9.69   8.17  11.10  13.62   8.55  ...  5.73  5.08  1.84  2.57      1\n",
              "4  30.10  11.85   0.48   8.10   0.11  ...  0.24  1.54  2.82  3.41      1\n",
              "\n",
              "[5 rows x 202 columns]"
            ]
          },
          "metadata": {
            "tags": []
          },
          "execution_count": 411
        }
      ]
    },
    {
      "cell_type": "markdown",
      "metadata": {
        "id": "hP22mdyPQ1_t"
      },
      "source": [
        "The dataset contains a set of measurements of [abalone](https://en.wikipedia.org/wiki/Abalone), a type of sea snail. \n",
        "\n",
        "![an abalone shell](https://tensorflow.org/images/abalone_shell.jpg)\n",
        "\n",
        " [“Abalone shell”](https://www.flickr.com/photos/thenickster/16641048623/) (by [Nicki Dugan Pogue](https://www.flickr.com/photos/thenickster/), CC BY-SA 2.0)\n"
      ]
    },
    {
      "cell_type": "markdown",
      "metadata": {
        "id": "vlfGrk_9N-wf"
      },
      "source": [
        "The nominal task for this dataset is to predict the age from the other measurements, so separate the features and labels for training:\n"
      ]
    },
    {
      "cell_type": "code",
      "metadata": {
        "id": "udOnDJOxNi7p"
      },
      "source": [
        "abalone_features = abalone_train.copy()\n",
        "abalone_labels = abalone_features.pop('Label')\n"
      ],
      "execution_count": 412,
      "outputs": []
    },
    {
      "cell_type": "markdown",
      "metadata": {
        "id": "seK9n71-UBfT"
      },
      "source": [
        "For this dataset you will treat all features identically. Pack the features into a single NumPy array.:"
      ]
    },
    {
      "cell_type": "code",
      "metadata": {
        "id": "Dp3N5McbUMwb",
        "colab": {
          "base_uri": "https://localhost:8080/"
        },
        "outputId": "67a1e826-4a29-417d-e11a-1e77985155c6"
      },
      "source": [
        "abalone_features = np.array(abalone_features)\n",
        "\n",
        "abalone_features\n"
      ],
      "execution_count": 413,
      "outputs": [
        {
          "output_type": "execute_result",
          "data": {
            "text/plain": [
              "array([[ 5.93,  0.6 , 10.  , ...,  0.9 ,  0.72,  4.63],\n",
              "       [18.97, 14.29,  4.77, ...,  1.78,  1.6 ,  3.9 ],\n",
              "       [ 9.23, 12.2 , 15.14, ...,  0.41,  3.77,  6.46],\n",
              "       ...,\n",
              "       [11.42,  2.89, 50.07, ...,  0.66,  1.42,  1.57],\n",
              "       [23.87, 16.64, 27.12, ...,  2.49,  1.79,  1.85],\n",
              "       [ 3.24,  1.42,  5.88, ...,  0.78,  2.03,  0.38]])"
            ]
          },
          "metadata": {
            "tags": []
          },
          "execution_count": 413
        }
      ]
    },
    {
      "cell_type": "markdown",
      "metadata": {
        "id": "1C1yFOxLOdxh"
      },
      "source": [
        "Next make a regression model predict the age. Since there is only a single input tensor, a `keras.Sequential` model is sufficient here."
      ]
    },
    {
      "cell_type": "code",
      "metadata": {
        "id": "d8zzNrZqOmfB"
      },
      "source": [
        "abalone_model = tf.keras.Sequential([\n",
        "  layers.Dense(67, activation='relu'),\n",
        "  layers.Dense(3, activation='softmax')\n",
        "])\n",
        "\n",
        "abalone_model.compile(loss = tf.losses.MeanSquaredError(),\n",
        "                      optimizer = tf.optimizers.Adam(),\n",
        "                      metrics = ['accuracy'])"
      ],
      "execution_count": 414,
      "outputs": []
    },
    {
      "cell_type": "markdown",
      "metadata": {
        "id": "j6IWeP78O2wE"
      },
      "source": [
        "To train that model, pass the features and labels to `Model.fit`:"
      ]
    },
    {
      "cell_type": "code",
      "metadata": {
        "id": "uZdpCD92SN3Z",
        "colab": {
          "base_uri": "https://localhost:8080/"
        },
        "outputId": "bf4bfea0-5c6a-4552-f075-1c5267fcc6d6"
      },
      "source": [
        "abalone_model.fit(abalone_features, abalone_labels, epochs=100)"
      ],
      "execution_count": 415,
      "outputs": [
        {
          "output_type": "stream",
          "text": [
            "Epoch 1/100\n",
            "11/11 [==============================] - 0s 2ms/step - loss: 3.3952 - accuracy: 0.1594\n",
            "Epoch 2/100\n",
            "11/11 [==============================] - 0s 2ms/step - loss: 3.3958 - accuracy: 0.2580\n",
            "Epoch 3/100\n",
            "11/11 [==============================] - 0s 2ms/step - loss: 3.3745 - accuracy: 0.2754\n",
            "Epoch 4/100\n",
            "11/11 [==============================] - 0s 2ms/step - loss: 3.3565 - accuracy: 0.2464\n",
            "Epoch 5/100\n",
            "11/11 [==============================] - 0s 3ms/step - loss: 3.3387 - accuracy: 0.2899\n",
            "Epoch 6/100\n",
            "11/11 [==============================] - 0s 4ms/step - loss: 3.3212 - accuracy: 0.2667\n",
            "Epoch 7/100\n",
            "11/11 [==============================] - 0s 2ms/step - loss: 3.3067 - accuracy: 0.2435\n",
            "Epoch 8/100\n",
            "11/11 [==============================] - 0s 3ms/step - loss: 3.2979 - accuracy: 0.2493\n",
            "Epoch 9/100\n",
            "11/11 [==============================] - 0s 2ms/step - loss: 3.2854 - accuracy: 0.2406\n",
            "Epoch 10/100\n",
            "11/11 [==============================] - 0s 2ms/step - loss: 3.2788 - accuracy: 0.2551\n",
            "Epoch 11/100\n",
            "11/11 [==============================] - 0s 2ms/step - loss: 3.2735 - accuracy: 0.2667\n",
            "Epoch 12/100\n",
            "11/11 [==============================] - 0s 2ms/step - loss: 3.2694 - accuracy: 0.2493\n",
            "Epoch 13/100\n",
            "11/11 [==============================] - 0s 4ms/step - loss: 3.2663 - accuracy: 0.2464\n",
            "Epoch 14/100\n",
            "11/11 [==============================] - 0s 3ms/step - loss: 3.2623 - accuracy: 0.2145\n",
            "Epoch 15/100\n",
            "11/11 [==============================] - 0s 2ms/step - loss: 3.2602 - accuracy: 0.2435\n",
            "Epoch 16/100\n",
            "11/11 [==============================] - 0s 2ms/step - loss: 3.2580 - accuracy: 0.2551\n",
            "Epoch 17/100\n",
            "11/11 [==============================] - 0s 3ms/step - loss: 3.2558 - accuracy: 0.2493\n",
            "Epoch 18/100\n",
            "11/11 [==============================] - 0s 3ms/step - loss: 3.2543 - accuracy: 0.2116\n",
            "Epoch 19/100\n",
            "11/11 [==============================] - 0s 2ms/step - loss: 3.2527 - accuracy: 0.2638\n",
            "Epoch 20/100\n",
            "11/11 [==============================] - 0s 2ms/step - loss: 3.2517 - accuracy: 0.2348\n",
            "Epoch 21/100\n",
            "11/11 [==============================] - 0s 2ms/step - loss: 3.2509 - accuracy: 0.2493\n",
            "Epoch 22/100\n",
            "11/11 [==============================] - 0s 3ms/step - loss: 3.2493 - accuracy: 0.2522\n",
            "Epoch 23/100\n",
            "11/11 [==============================] - 0s 3ms/step - loss: 3.2486 - accuracy: 0.2493\n",
            "Epoch 24/100\n",
            "11/11 [==============================] - 0s 2ms/step - loss: 3.2478 - accuracy: 0.2406\n",
            "Epoch 25/100\n",
            "11/11 [==============================] - 0s 3ms/step - loss: 3.2470 - accuracy: 0.2522\n",
            "Epoch 26/100\n",
            "11/11 [==============================] - 0s 3ms/step - loss: 3.2468 - accuracy: 0.2203\n",
            "Epoch 27/100\n",
            "11/11 [==============================] - 0s 2ms/step - loss: 3.2460 - accuracy: 0.2551\n",
            "Epoch 28/100\n",
            "11/11 [==============================] - 0s 2ms/step - loss: 3.2458 - accuracy: 0.2551\n",
            "Epoch 29/100\n",
            "11/11 [==============================] - 0s 2ms/step - loss: 3.2456 - accuracy: 0.2609\n",
            "Epoch 30/100\n",
            "11/11 [==============================] - 0s 3ms/step - loss: 3.2458 - accuracy: 0.2116\n",
            "Epoch 31/100\n",
            "11/11 [==============================] - 0s 3ms/step - loss: 3.2454 - accuracy: 0.2928\n",
            "Epoch 32/100\n",
            "11/11 [==============================] - 0s 2ms/step - loss: 3.2453 - accuracy: 0.2203\n",
            "Epoch 33/100\n",
            "11/11 [==============================] - 0s 3ms/step - loss: 3.2449 - accuracy: 0.2841\n",
            "Epoch 34/100\n",
            "11/11 [==============================] - 0s 2ms/step - loss: 3.2448 - accuracy: 0.2290\n",
            "Epoch 35/100\n",
            "11/11 [==============================] - 0s 3ms/step - loss: 3.2445 - accuracy: 0.2580\n",
            "Epoch 36/100\n",
            "11/11 [==============================] - 0s 2ms/step - loss: 3.2442 - accuracy: 0.2145\n",
            "Epoch 37/100\n",
            "11/11 [==============================] - 0s 2ms/step - loss: 3.2443 - accuracy: 0.2899\n",
            "Epoch 38/100\n",
            "11/11 [==============================] - 0s 2ms/step - loss: 3.2446 - accuracy: 0.2377\n",
            "Epoch 39/100\n",
            "11/11 [==============================] - 0s 2ms/step - loss: 3.2443 - accuracy: 0.2290\n",
            "Epoch 40/100\n",
            "11/11 [==============================] - 0s 2ms/step - loss: 3.2441 - accuracy: 0.2783\n",
            "Epoch 41/100\n",
            "11/11 [==============================] - 0s 4ms/step - loss: 3.2436 - accuracy: 0.2580\n",
            "Epoch 42/100\n",
            "11/11 [==============================] - 0s 3ms/step - loss: 3.2435 - accuracy: 0.2667\n",
            "Epoch 43/100\n",
            "11/11 [==============================] - 0s 2ms/step - loss: 3.2434 - accuracy: 0.2348\n",
            "Epoch 44/100\n",
            "11/11 [==============================] - 0s 2ms/step - loss: 3.2436 - accuracy: 0.2348\n",
            "Epoch 45/100\n",
            "11/11 [==============================] - 0s 2ms/step - loss: 3.2432 - accuracy: 0.2261\n",
            "Epoch 46/100\n",
            "11/11 [==============================] - 0s 2ms/step - loss: 3.2434 - accuracy: 0.2290\n",
            "Epoch 47/100\n",
            "11/11 [==============================] - 0s 2ms/step - loss: 3.2431 - accuracy: 0.2812\n",
            "Epoch 48/100\n",
            "11/11 [==============================] - 0s 2ms/step - loss: 3.2432 - accuracy: 0.1623\n",
            "Epoch 49/100\n",
            "11/11 [==============================] - 0s 2ms/step - loss: 3.2426 - accuracy: 0.2783\n",
            "Epoch 50/100\n",
            "11/11 [==============================] - 0s 2ms/step - loss: 3.2422 - accuracy: 0.2232\n",
            "Epoch 51/100\n",
            "11/11 [==============================] - 0s 2ms/step - loss: 3.2420 - accuracy: 0.2435\n",
            "Epoch 52/100\n",
            "11/11 [==============================] - 0s 3ms/step - loss: 3.2421 - accuracy: 0.2348\n",
            "Epoch 53/100\n",
            "11/11 [==============================] - 0s 3ms/step - loss: 3.2421 - accuracy: 0.2029\n",
            "Epoch 54/100\n",
            "11/11 [==============================] - 0s 3ms/step - loss: 3.2421 - accuracy: 0.2348\n",
            "Epoch 55/100\n",
            "11/11 [==============================] - 0s 2ms/step - loss: 3.2420 - accuracy: 0.2348\n",
            "Epoch 56/100\n",
            "11/11 [==============================] - 0s 3ms/step - loss: 3.2421 - accuracy: 0.1971\n",
            "Epoch 57/100\n",
            "11/11 [==============================] - 0s 3ms/step - loss: 3.2418 - accuracy: 0.2145\n",
            "Epoch 58/100\n",
            "11/11 [==============================] - 0s 3ms/step - loss: 3.2423 - accuracy: 0.2493\n",
            "Epoch 59/100\n",
            "11/11 [==============================] - 0s 3ms/step - loss: 3.2424 - accuracy: 0.1971\n",
            "Epoch 60/100\n",
            "11/11 [==============================] - 0s 2ms/step - loss: 3.2420 - accuracy: 0.2261\n",
            "Epoch 61/100\n",
            "11/11 [==============================] - 0s 3ms/step - loss: 3.2415 - accuracy: 0.2087\n",
            "Epoch 62/100\n",
            "11/11 [==============================] - 0s 2ms/step - loss: 3.2416 - accuracy: 0.2406\n",
            "Epoch 63/100\n",
            "11/11 [==============================] - 0s 2ms/step - loss: 3.2415 - accuracy: 0.1652\n",
            "Epoch 64/100\n",
            "11/11 [==============================] - 0s 2ms/step - loss: 3.2415 - accuracy: 0.2261\n",
            "Epoch 65/100\n",
            "11/11 [==============================] - 0s 3ms/step - loss: 3.2417 - accuracy: 0.2551\n",
            "Epoch 66/100\n",
            "11/11 [==============================] - 0s 2ms/step - loss: 3.2418 - accuracy: 0.1971\n",
            "Epoch 67/100\n",
            "11/11 [==============================] - 0s 3ms/step - loss: 3.2416 - accuracy: 0.2145\n",
            "Epoch 68/100\n",
            "11/11 [==============================] - 0s 3ms/step - loss: 3.2417 - accuracy: 0.2029\n",
            "Epoch 69/100\n",
            "11/11 [==============================] - 0s 2ms/step - loss: 3.2417 - accuracy: 0.2667\n",
            "Epoch 70/100\n",
            "11/11 [==============================] - 0s 2ms/step - loss: 3.2415 - accuracy: 0.1739\n",
            "Epoch 71/100\n",
            "11/11 [==============================] - 0s 3ms/step - loss: 3.2413 - accuracy: 0.2435\n",
            "Epoch 72/100\n",
            "11/11 [==============================] - 0s 2ms/step - loss: 3.2413 - accuracy: 0.2029\n",
            "Epoch 73/100\n",
            "11/11 [==============================] - 0s 2ms/step - loss: 3.2412 - accuracy: 0.2464\n",
            "Epoch 74/100\n",
            "11/11 [==============================] - 0s 3ms/step - loss: 3.2413 - accuracy: 0.2116\n",
            "Epoch 75/100\n",
            "11/11 [==============================] - 0s 3ms/step - loss: 3.2411 - accuracy: 0.2000\n",
            "Epoch 76/100\n",
            "11/11 [==============================] - 0s 2ms/step - loss: 3.2412 - accuracy: 0.2261\n",
            "Epoch 77/100\n",
            "11/11 [==============================] - 0s 2ms/step - loss: 3.2412 - accuracy: 0.2029\n",
            "Epoch 78/100\n",
            "11/11 [==============================] - 0s 3ms/step - loss: 3.2410 - accuracy: 0.2348\n",
            "Epoch 79/100\n",
            "11/11 [==============================] - 0s 2ms/step - loss: 3.2409 - accuracy: 0.2029\n",
            "Epoch 80/100\n",
            "11/11 [==============================] - 0s 3ms/step - loss: 3.2410 - accuracy: 0.1884\n",
            "Epoch 81/100\n",
            "11/11 [==============================] - 0s 3ms/step - loss: 3.2410 - accuracy: 0.1942\n",
            "Epoch 82/100\n",
            "11/11 [==============================] - 0s 2ms/step - loss: 3.2410 - accuracy: 0.2174\n",
            "Epoch 83/100\n",
            "11/11 [==============================] - 0s 2ms/step - loss: 3.2410 - accuracy: 0.2029\n",
            "Epoch 84/100\n",
            "11/11 [==============================] - 0s 3ms/step - loss: 3.2411 - accuracy: 0.2551\n",
            "Epoch 85/100\n",
            "11/11 [==============================] - 0s 3ms/step - loss: 3.2411 - accuracy: 0.1884\n",
            "Epoch 86/100\n",
            "11/11 [==============================] - 0s 3ms/step - loss: 3.2410 - accuracy: 0.2464\n",
            "Epoch 87/100\n",
            "11/11 [==============================] - 0s 3ms/step - loss: 3.2409 - accuracy: 0.2377\n",
            "Epoch 88/100\n",
            "11/11 [==============================] - 0s 2ms/step - loss: 3.2409 - accuracy: 0.1855\n",
            "Epoch 89/100\n",
            "11/11 [==============================] - 0s 3ms/step - loss: 3.2408 - accuracy: 0.2377\n",
            "Epoch 90/100\n",
            "11/11 [==============================] - 0s 3ms/step - loss: 3.2408 - accuracy: 0.1826\n",
            "Epoch 91/100\n",
            "11/11 [==============================] - 0s 3ms/step - loss: 3.2409 - accuracy: 0.2232\n",
            "Epoch 92/100\n",
            "11/11 [==============================] - 0s 3ms/step - loss: 3.2409 - accuracy: 0.1797\n",
            "Epoch 93/100\n",
            "11/11 [==============================] - 0s 3ms/step - loss: 3.2409 - accuracy: 0.1797\n",
            "Epoch 94/100\n",
            "11/11 [==============================] - 0s 3ms/step - loss: 3.2409 - accuracy: 0.1971\n",
            "Epoch 95/100\n",
            "11/11 [==============================] - 0s 3ms/step - loss: 3.2408 - accuracy: 0.1768\n",
            "Epoch 96/100\n",
            "11/11 [==============================] - 0s 3ms/step - loss: 3.2409 - accuracy: 0.2348\n",
            "Epoch 97/100\n",
            "11/11 [==============================] - 0s 2ms/step - loss: 3.2408 - accuracy: 0.1710\n",
            "Epoch 98/100\n",
            "11/11 [==============================] - 0s 2ms/step - loss: 3.2409 - accuracy: 0.2232\n",
            "Epoch 99/100\n",
            "11/11 [==============================] - 0s 4ms/step - loss: 3.2409 - accuracy: 0.1971\n",
            "Epoch 100/100\n",
            "11/11 [==============================] - 0s 3ms/step - loss: 3.2410 - accuracy: 0.2580\n"
          ],
          "name": "stdout"
        },
        {
          "output_type": "execute_result",
          "data": {
            "text/plain": [
              "<tensorflow.python.keras.callbacks.History at 0x7f858913d090>"
            ]
          },
          "metadata": {
            "tags": []
          },
          "execution_count": 415
        }
      ]
    },
    {
      "cell_type": "markdown",
      "metadata": {
        "id": "GapLOj1OOTQH"
      },
      "source": [
        "You have just seen the most basic way to train a model using CSV data. Next, you will learn how to apply preprocessing to normalize numeric columns."
      ]
    },
    {
      "cell_type": "markdown",
      "metadata": {
        "id": "B87Rd1SOUv02"
      },
      "source": [
        "## Basic preprocessing"
      ]
    },
    {
      "cell_type": "markdown",
      "metadata": {
        "id": "yCrB2Jd-U0Vt"
      },
      "source": [
        "It's good practice to normalize the inputs to your model. The `experimental.preprocessing` layers provide a convenient way to build this normalization into your model. \n",
        "\n",
        "The layer will precompute the mean and variance of each column, and use these to normalize the data.\n",
        "\n",
        "First you create the layer:"
      ]
    },
    {
      "cell_type": "code",
      "metadata": {
        "id": "H2WQpDU5VRk7"
      },
      "source": [
        "normalize = preprocessing.Normalization()"
      ],
      "execution_count": 416,
      "outputs": []
    },
    {
      "cell_type": "markdown",
      "metadata": {
        "id": "hGgEZE-7Vpt6"
      },
      "source": [
        "Then you use the `Normalization.adapt()` method to adapt the normalization layer to your data.\n",
        "\n",
        "Note: Only use your training data to `.adapt()` preprocessing layers. Do not use your validation or test data."
      ]
    },
    {
      "cell_type": "code",
      "metadata": {
        "id": "2WgOPIiOVpLg"
      },
      "source": [
        "normalize.adapt(abalone_features)"
      ],
      "execution_count": 417,
      "outputs": []
    },
    {
      "cell_type": "markdown",
      "metadata": {
        "id": "rE6vh0byV7cE"
      },
      "source": [
        "Then use the normalization layer in your model:"
      ]
    },
    {
      "cell_type": "code",
      "metadata": {
        "id": "quPcZ9dTWA9A",
        "colab": {
          "base_uri": "https://localhost:8080/"
        },
        "outputId": "81cebafd-d6fa-4017-e96b-90cf4396f6c1"
      },
      "source": [
        "norm_abalone_model = tf.keras.Sequential([\n",
        "  normalize,\n",
        "  layers.Dense(67, activation='relu'),\n",
        "  layers.Dense(3, activation='softmax')\n",
        "])\n",
        "\n",
        "norm_abalone_model.compile(loss = tf.losses.MeanSquaredError(),\n",
        "                           optimizer = tf.optimizers.Adam(),\n",
        "                           metrics=['accuracy'])\n",
        "\n",
        "norm_abalone_model.fit(abalone_features, abalone_labels, epochs=100)\n"
      ],
      "execution_count": 418,
      "outputs": [
        {
          "output_type": "stream",
          "text": [
            "Epoch 1/100\n",
            "11/11 [==============================] - 0s 2ms/step - loss: 3.3113 - accuracy: 0.1797\n",
            "Epoch 2/100\n",
            "11/11 [==============================] - 0s 2ms/step - loss: 3.2817 - accuracy: 0.2087\n",
            "Epoch 3/100\n",
            "11/11 [==============================] - 0s 2ms/step - loss: 3.2663 - accuracy: 0.2435\n",
            "Epoch 4/100\n",
            "11/11 [==============================] - 0s 2ms/step - loss: 3.2573 - accuracy: 0.2464\n",
            "Epoch 5/100\n",
            "11/11 [==============================] - 0s 2ms/step - loss: 3.2521 - accuracy: 0.2493\n",
            "Epoch 6/100\n",
            "11/11 [==============================] - 0s 2ms/step - loss: 3.2490 - accuracy: 0.2348\n",
            "Epoch 7/100\n",
            "11/11 [==============================] - 0s 2ms/step - loss: 3.2467 - accuracy: 0.2348\n",
            "Epoch 8/100\n",
            "11/11 [==============================] - 0s 2ms/step - loss: 3.2449 - accuracy: 0.2261\n",
            "Epoch 9/100\n",
            "11/11 [==============================] - 0s 3ms/step - loss: 3.2440 - accuracy: 0.2203\n",
            "Epoch 10/100\n",
            "11/11 [==============================] - 0s 2ms/step - loss: 3.2431 - accuracy: 0.2377\n",
            "Epoch 11/100\n",
            "11/11 [==============================] - 0s 3ms/step - loss: 3.2424 - accuracy: 0.2319\n",
            "Epoch 12/100\n",
            "11/11 [==============================] - 0s 2ms/step - loss: 3.2420 - accuracy: 0.2290\n",
            "Epoch 13/100\n",
            "11/11 [==============================] - 0s 2ms/step - loss: 3.2417 - accuracy: 0.2551\n",
            "Epoch 14/100\n",
            "11/11 [==============================] - 0s 2ms/step - loss: 3.2415 - accuracy: 0.2435\n",
            "Epoch 15/100\n",
            "11/11 [==============================] - 0s 2ms/step - loss: 3.2413 - accuracy: 0.2232\n",
            "Epoch 16/100\n",
            "11/11 [==============================] - 0s 2ms/step - loss: 3.2412 - accuracy: 0.2493\n",
            "Epoch 17/100\n",
            "11/11 [==============================] - 0s 2ms/step - loss: 3.2412 - accuracy: 0.2464\n",
            "Epoch 18/100\n",
            "11/11 [==============================] - 0s 2ms/step - loss: 3.2411 - accuracy: 0.2319\n",
            "Epoch 19/100\n",
            "11/11 [==============================] - 0s 3ms/step - loss: 3.2409 - accuracy: 0.2522\n",
            "Epoch 20/100\n",
            "11/11 [==============================] - 0s 2ms/step - loss: 3.2409 - accuracy: 0.2609\n",
            "Epoch 21/100\n",
            "11/11 [==============================] - 0s 2ms/step - loss: 3.2409 - accuracy: 0.2435\n",
            "Epoch 22/100\n",
            "11/11 [==============================] - 0s 2ms/step - loss: 3.2408 - accuracy: 0.2841\n",
            "Epoch 23/100\n",
            "11/11 [==============================] - 0s 2ms/step - loss: 3.2408 - accuracy: 0.2290\n",
            "Epoch 24/100\n",
            "11/11 [==============================] - 0s 3ms/step - loss: 3.2408 - accuracy: 0.3246\n",
            "Epoch 25/100\n",
            "11/11 [==============================] - 0s 2ms/step - loss: 3.2408 - accuracy: 0.2377\n",
            "Epoch 26/100\n",
            "11/11 [==============================] - 0s 2ms/step - loss: 3.2409 - accuracy: 0.2957\n",
            "Epoch 27/100\n",
            "11/11 [==============================] - 0s 3ms/step - loss: 3.2408 - accuracy: 0.2116\n",
            "Epoch 28/100\n",
            "11/11 [==============================] - 0s 2ms/step - loss: 3.2408 - accuracy: 0.3333\n",
            "Epoch 29/100\n",
            "11/11 [==============================] - 0s 3ms/step - loss: 3.2409 - accuracy: 0.2319\n",
            "Epoch 30/100\n",
            "11/11 [==============================] - 0s 2ms/step - loss: 3.2409 - accuracy: 0.3362\n",
            "Epoch 31/100\n",
            "11/11 [==============================] - 0s 3ms/step - loss: 3.2409 - accuracy: 0.2203\n",
            "Epoch 32/100\n",
            "11/11 [==============================] - 0s 2ms/step - loss: 3.2409 - accuracy: 0.3246\n",
            "Epoch 33/100\n",
            "11/11 [==============================] - 0s 2ms/step - loss: 3.2410 - accuracy: 0.1826\n",
            "Epoch 34/100\n",
            "11/11 [==============================] - 0s 2ms/step - loss: 3.2410 - accuracy: 0.3536\n",
            "Epoch 35/100\n",
            "11/11 [==============================] - 0s 2ms/step - loss: 3.2409 - accuracy: 0.1913\n",
            "Epoch 36/100\n",
            "11/11 [==============================] - 0s 2ms/step - loss: 3.2410 - accuracy: 0.3043\n",
            "Epoch 37/100\n",
            "11/11 [==============================] - 0s 2ms/step - loss: 3.2410 - accuracy: 0.0638\n",
            "Epoch 38/100\n",
            "11/11 [==============================] - 0s 3ms/step - loss: 3.2410 - accuracy: 0.2957\n",
            "Epoch 39/100\n",
            "11/11 [==============================] - 0s 2ms/step - loss: 3.2410 - accuracy: 0.1971\n",
            "Epoch 40/100\n",
            "11/11 [==============================] - 0s 2ms/step - loss: 3.2411 - accuracy: 0.2551\n",
            "Epoch 41/100\n",
            "11/11 [==============================] - 0s 2ms/step - loss: 3.2412 - accuracy: 0.1942\n",
            "Epoch 42/100\n",
            "11/11 [==============================] - 0s 2ms/step - loss: 3.2414 - accuracy: 0.2899\n",
            "Epoch 43/100\n",
            "11/11 [==============================] - 0s 3ms/step - loss: 3.2412 - accuracy: 0.1884\n",
            "Epoch 44/100\n",
            "11/11 [==============================] - 0s 3ms/step - loss: 3.2413 - accuracy: 0.2551\n",
            "Epoch 45/100\n",
            "11/11 [==============================] - 0s 2ms/step - loss: 3.2411 - accuracy: 0.2145\n",
            "Epoch 46/100\n",
            "11/11 [==============================] - 0s 3ms/step - loss: 3.2415 - accuracy: 0.2493\n",
            "Epoch 47/100\n",
            "11/11 [==============================] - 0s 3ms/step - loss: 3.2413 - accuracy: 0.1188\n",
            "Epoch 48/100\n",
            "11/11 [==============================] - 0s 4ms/step - loss: 3.2411 - accuracy: 0.3072\n",
            "Epoch 49/100\n",
            "11/11 [==============================] - 0s 3ms/step - loss: 3.2410 - accuracy: 0.0986\n",
            "Epoch 50/100\n",
            "11/11 [==============================] - 0s 2ms/step - loss: 3.2410 - accuracy: 0.2899\n",
            "Epoch 51/100\n",
            "11/11 [==============================] - 0s 2ms/step - loss: 3.2410 - accuracy: 0.1478\n",
            "Epoch 52/100\n",
            "11/11 [==============================] - 0s 2ms/step - loss: 3.2411 - accuracy: 0.2377\n",
            "Epoch 53/100\n",
            "11/11 [==============================] - 0s 2ms/step - loss: 3.2411 - accuracy: 0.1710\n",
            "Epoch 54/100\n",
            "11/11 [==============================] - 0s 3ms/step - loss: 3.2413 - accuracy: 0.2348\n",
            "Epoch 55/100\n",
            "11/11 [==============================] - 0s 2ms/step - loss: 3.2411 - accuracy: 0.1449\n",
            "Epoch 56/100\n",
            "11/11 [==============================] - 0s 2ms/step - loss: 3.2411 - accuracy: 0.2928\n",
            "Epoch 57/100\n",
            "11/11 [==============================] - 0s 2ms/step - loss: 3.2410 - accuracy: 0.1159\n",
            "Epoch 58/100\n",
            "11/11 [==============================] - 0s 3ms/step - loss: 3.2410 - accuracy: 0.2899\n",
            "Epoch 59/100\n",
            "11/11 [==============================] - 0s 3ms/step - loss: 3.2410 - accuracy: 0.1971\n",
            "Epoch 60/100\n",
            "11/11 [==============================] - 0s 3ms/step - loss: 3.2410 - accuracy: 0.2696\n",
            "Epoch 61/100\n",
            "11/11 [==============================] - 0s 3ms/step - loss: 3.2410 - accuracy: 0.2029\n",
            "Epoch 62/100\n",
            "11/11 [==============================] - 0s 3ms/step - loss: 3.2410 - accuracy: 0.2174\n",
            "Epoch 63/100\n",
            "11/11 [==============================] - 0s 3ms/step - loss: 3.2412 - accuracy: 0.1797\n",
            "Epoch 64/100\n",
            "11/11 [==============================] - 0s 2ms/step - loss: 3.2410 - accuracy: 0.2377\n",
            "Epoch 65/100\n",
            "11/11 [==============================] - 0s 2ms/step - loss: 3.2412 - accuracy: 0.1797\n",
            "Epoch 66/100\n",
            "11/11 [==============================] - 0s 2ms/step - loss: 3.2413 - accuracy: 0.2290\n",
            "Epoch 67/100\n",
            "11/11 [==============================] - 0s 2ms/step - loss: 3.2416 - accuracy: 0.1652\n",
            "Epoch 68/100\n",
            "11/11 [==============================] - 0s 2ms/step - loss: 3.2414 - accuracy: 0.2638\n",
            "Epoch 69/100\n",
            "11/11 [==============================] - 0s 2ms/step - loss: 3.2414 - accuracy: 0.1478\n",
            "Epoch 70/100\n",
            "11/11 [==============================] - 0s 3ms/step - loss: 3.2412 - accuracy: 0.2754\n",
            "Epoch 71/100\n",
            "11/11 [==============================] - 0s 3ms/step - loss: 3.2413 - accuracy: 0.1565\n",
            "Epoch 72/100\n",
            "11/11 [==============================] - 0s 3ms/step - loss: 3.2413 - accuracy: 0.2290\n",
            "Epoch 73/100\n",
            "11/11 [==============================] - 0s 3ms/step - loss: 3.2417 - accuracy: 0.2406\n",
            "Epoch 74/100\n",
            "11/11 [==============================] - 0s 4ms/step - loss: 3.2418 - accuracy: 0.1449\n",
            "Epoch 75/100\n",
            "11/11 [==============================] - 0s 2ms/step - loss: 3.2415 - accuracy: 0.3159\n",
            "Epoch 76/100\n",
            "11/11 [==============================] - 0s 3ms/step - loss: 3.2413 - accuracy: 0.2203\n",
            "Epoch 77/100\n",
            "11/11 [==============================] - 0s 2ms/step - loss: 3.2410 - accuracy: 0.2174\n",
            "Epoch 78/100\n",
            "11/11 [==============================] - 0s 4ms/step - loss: 3.2411 - accuracy: 0.2232\n",
            "Epoch 79/100\n",
            "11/11 [==============================] - 0s 2ms/step - loss: 3.2411 - accuracy: 0.2203\n",
            "Epoch 80/100\n",
            "11/11 [==============================] - 0s 3ms/step - loss: 3.2410 - accuracy: 0.2522\n",
            "Epoch 81/100\n",
            "11/11 [==============================] - 0s 2ms/step - loss: 3.2408 - accuracy: 0.2435\n",
            "Epoch 82/100\n",
            "11/11 [==============================] - 0s 2ms/step - loss: 3.2408 - accuracy: 0.1710\n",
            "Epoch 83/100\n",
            "11/11 [==============================] - 0s 3ms/step - loss: 3.2407 - accuracy: 0.2696\n",
            "Epoch 84/100\n",
            "11/11 [==============================] - 0s 2ms/step - loss: 3.2408 - accuracy: 0.1913\n",
            "Epoch 85/100\n",
            "11/11 [==============================] - 0s 2ms/step - loss: 3.2408 - accuracy: 0.2319\n",
            "Epoch 86/100\n",
            "11/11 [==============================] - 0s 3ms/step - loss: 3.2409 - accuracy: 0.1449\n",
            "Epoch 87/100\n",
            "11/11 [==============================] - 0s 2ms/step - loss: 3.2410 - accuracy: 0.1797\n",
            "Epoch 88/100\n",
            "11/11 [==============================] - 0s 2ms/step - loss: 3.2410 - accuracy: 0.1942\n",
            "Epoch 89/100\n",
            "11/11 [==============================] - 0s 3ms/step - loss: 3.2409 - accuracy: 0.2435\n",
            "Epoch 90/100\n",
            "11/11 [==============================] - 0s 2ms/step - loss: 3.2410 - accuracy: 0.1594\n",
            "Epoch 91/100\n",
            "11/11 [==============================] - 0s 3ms/step - loss: 3.2410 - accuracy: 0.2290\n",
            "Epoch 92/100\n",
            "11/11 [==============================] - 0s 3ms/step - loss: 3.2409 - accuracy: 0.1159\n",
            "Epoch 93/100\n",
            "11/11 [==============================] - 0s 3ms/step - loss: 3.2410 - accuracy: 0.2638\n",
            "Epoch 94/100\n",
            "11/11 [==============================] - 0s 3ms/step - loss: 3.2410 - accuracy: 0.1623\n",
            "Epoch 95/100\n",
            "11/11 [==============================] - 0s 3ms/step - loss: 3.2412 - accuracy: 0.1942\n",
            "Epoch 96/100\n",
            "11/11 [==============================] - 0s 2ms/step - loss: 3.2411 - accuracy: 0.2029\n",
            "Epoch 97/100\n",
            "11/11 [==============================] - 0s 3ms/step - loss: 3.2413 - accuracy: 0.1652\n",
            "Epoch 98/100\n",
            "11/11 [==============================] - 0s 2ms/step - loss: 3.2413 - accuracy: 0.2319\n",
            "Epoch 99/100\n",
            "11/11 [==============================] - 0s 2ms/step - loss: 3.2410 - accuracy: 0.1768\n",
            "Epoch 100/100\n",
            "11/11 [==============================] - 0s 2ms/step - loss: 3.2410 - accuracy: 0.2348\n"
          ],
          "name": "stdout"
        },
        {
          "output_type": "execute_result",
          "data": {
            "text/plain": [
              "<tensorflow.python.keras.callbacks.History at 0x7f8587f87110>"
            ]
          },
          "metadata": {
            "tags": []
          },
          "execution_count": 418
        }
      ]
    },
    {
      "cell_type": "markdown",
      "metadata": {
        "id": "Wuqj601Qw0Ml"
      },
      "source": [
        "## Mixed data types\n",
        "\n",
        "The \"Titanic\" dataset contains information about the passengers on the Titanic. The nominal task on this dataset is to predict who survived. \n",
        "\n",
        "![The Titanic](https://github.com/tensorflow/docs/blob/master/site/en/tutorials/load_data/images/csv/Titanic.jpg?raw=1)\n",
        "\n",
        "Image [from Wikimedia](https://commons.wikimedia.org/wiki/File:RMS_Titanic_3.jpg)\n",
        "\n",
        "The raw data can easily be loaded as a Pandas `DataFrame`, but is not immediately usable as input to a TensorFlow model. \n"
      ]
    },
    {
      "cell_type": "code",
      "metadata": {
        "id": "GS-dBMpuYMnz"
      },
      "source": [
        "titanic = pd.read_csv(\"https://storage.googleapis.com/tf-datasets/titanic/train.csv\")\n",
        "titanic.head()"
      ],
      "execution_count": null,
      "outputs": []
    },
    {
      "cell_type": "code",
      "metadata": {
        "id": "D8rCGIK1ZzKx"
      },
      "source": [
        "titanic_features = titanic.copy()\n",
        "titanic_labels = titanic_features.pop('survived')"
      ],
      "execution_count": null,
      "outputs": []
    },
    {
      "cell_type": "markdown",
      "metadata": {
        "id": "urHOwpCDYtcI"
      },
      "source": [
        "Because of the different data types and ranges you can't simply stack the features into  NumPy array and pass it to a `keras.Sequential` model. Each column needs to be handled individually. \n",
        "\n",
        "As one option, you could preprocess your data offline (using any tool you like) to convert categorical columns to numeric columns, then pass the processed output to your TensorFlow model. The disadvantage to that approach is that if you save and export your model the preprocessing is not saved with it. The `experimental.preprocessing` layers avoid this problem because they're part of the model.\n"
      ]
    },
    {
      "cell_type": "markdown",
      "metadata": {
        "id": "Bta4Sx0Zau5v"
      },
      "source": [
        "In this example, you'll build a model that implements the preprocessing logic using [Keras functional API](https://www.tensorflow.org/guide/keras/functional). You could also do it by [subclassing](https://www.tensorflow.org/guide/keras/custom_layers_and_models).\n",
        "\n",
        "The functional API operates on \"symbolic\" tensors. Normal \"eager\" tensors have a value. In contrast these \"symbolic\" tensors do not. Instead they keep track of which operations are run on them, and build representation of the calculation, that you can run later. Here's a quick example:"
      ]
    },
    {
      "cell_type": "code",
      "metadata": {
        "id": "730F16_97D-3"
      },
      "source": [
        "# Create a symbolic input\n",
        "input = tf.keras.Input(shape=(), dtype=tf.float32)\n",
        "\n",
        "# Do a calculation using is\n",
        "result = 2*input + 1\n",
        "\n",
        "# the result doesn't have a value\n",
        "result"
      ],
      "execution_count": null,
      "outputs": []
    },
    {
      "cell_type": "code",
      "metadata": {
        "id": "RtcNXWB18kMJ"
      },
      "source": [
        "calc = tf.keras.Model(inputs=input, outputs=result)"
      ],
      "execution_count": null,
      "outputs": []
    },
    {
      "cell_type": "code",
      "metadata": {
        "id": "fUGQOUqZ8sa-"
      },
      "source": [
        "print(calc(1).numpy())\n",
        "print(calc(2).numpy())"
      ],
      "execution_count": null,
      "outputs": []
    },
    {
      "cell_type": "markdown",
      "metadata": {
        "id": "rNS9lT7f6_U2"
      },
      "source": [
        "To build the preprocessing model, start by building a set of symbolic `keras.Input` objects, matching the names and data-types of the CSV columns."
      ]
    },
    {
      "cell_type": "code",
      "metadata": {
        "id": "5WODe_1da3yw"
      },
      "source": [
        "inputs = {}\n",
        "\n",
        "for name, column in titanic_features.items():\n",
        "  dtype = column.dtype\n",
        "  if dtype == object:\n",
        "    dtype = tf.string\n",
        "  else:\n",
        "    dtype = tf.float32\n",
        "\n",
        "  inputs[name] = tf.keras.Input(shape=(1,), name=name, dtype=dtype)\n",
        "\n",
        "inputs"
      ],
      "execution_count": null,
      "outputs": []
    },
    {
      "cell_type": "markdown",
      "metadata": {
        "id": "aaheJFmymq8l"
      },
      "source": [
        "The first step in your preprocessing logic is to concatenate the numeric inputs together, and run them through a normalization layer:"
      ]
    },
    {
      "cell_type": "code",
      "metadata": {
        "id": "wPRC_E6rkp8D"
      },
      "source": [
        "numeric_inputs = {name:input for name,input in inputs.items()\n",
        "                  if input.dtype==tf.float32}\n",
        "\n",
        "x = layers.Concatenate()(list(numeric_inputs.values()))\n",
        "norm = preprocessing.Normalization()\n",
        "norm.adapt(np.array(titanic[numeric_inputs.keys()]))\n",
        "all_numeric_inputs = norm(x)\n",
        "\n",
        "all_numeric_inputs"
      ],
      "execution_count": null,
      "outputs": []
    },
    {
      "cell_type": "markdown",
      "metadata": {
        "id": "-JoR45Uj712l"
      },
      "source": [
        "Collect all the symbolic preprocessing results, to concatenate them later."
      ]
    },
    {
      "cell_type": "code",
      "metadata": {
        "id": "M7jIJw5XntdN"
      },
      "source": [
        "preprocessed_inputs = [all_numeric_inputs]"
      ],
      "execution_count": null,
      "outputs": []
    },
    {
      "cell_type": "markdown",
      "metadata": {
        "id": "r0Hryylyosfm"
      },
      "source": [
        "For the string inputs use the `preprocessing.StringLookup` function to map from strings to integer indices in a vocabulary. Next, use `preprocessing.CategoryEncoding` to convert the indexes into `float32` data appropriate for the model. \n",
        "\n",
        "The default settings for the `preprocessing.CategoryEncoding` layer create a one-hot vector for each input. A `layers.Embedding` would also work. See the [preprocessing layers guide](https://www.tensorflow.org/guide/keras/preprocessing_layers#quick_recipes) and [tutorial](../structured_data/preprocessing_layers.ipynb) for more on this topic."
      ]
    },
    {
      "cell_type": "code",
      "metadata": {
        "id": "79fi1Cgan2YV"
      },
      "source": [
        "for name, input in inputs.items():\n",
        "  if input.dtype == tf.float32:\n",
        "    continue\n",
        "  \n",
        "  lookup = preprocessing.StringLookup(vocabulary=np.unique(titanic_features[name]))\n",
        "  one_hot = preprocessing.CategoryEncoding(max_tokens=lookup.vocab_size())\n",
        "\n",
        "  x = lookup(input)\n",
        "  x = one_hot(x)\n",
        "  preprocessed_inputs.append(x)"
      ],
      "execution_count": null,
      "outputs": []
    },
    {
      "cell_type": "markdown",
      "metadata": {
        "id": "Wnhv0T7itnc7"
      },
      "source": [
        "With the collection of `inputs` and `processed_inputs`, you can concatenate all the preprocessed inputs together, and build a model that handles the preprocessing:"
      ]
    },
    {
      "cell_type": "code",
      "metadata": {
        "id": "XJRzUTe8ukXc"
      },
      "source": [
        "preprocessed_inputs_cat = layers.Concatenate()(preprocessed_inputs)\n",
        "\n",
        "titanic_preprocessing = tf.keras.Model(inputs, preprocessed_inputs_cat)\n",
        "\n",
        "tf.keras.utils.plot_model(model = titanic_preprocessing , rankdir=\"LR\", dpi=72, show_shapes=True)"
      ],
      "execution_count": null,
      "outputs": []
    },
    {
      "cell_type": "markdown",
      "metadata": {
        "id": "PNHxrNW8vdda"
      },
      "source": [
        "This `model` just contains the input preprocessing. You can run it to see what it does to your data. Keras models don't automatically convert Pandas `DataFrames` because it's not clear if it should be converted to one tensor or to a dictionary of tensors. So convert it to a dictionary of tensors:"
      ]
    },
    {
      "cell_type": "code",
      "metadata": {
        "id": "5YjdYyMEacwQ"
      },
      "source": [
        "titanic_features_dict = {name: np.array(value) \n",
        "                         for name, value in titanic_features.items()}"
      ],
      "execution_count": null,
      "outputs": []
    },
    {
      "cell_type": "markdown",
      "metadata": {
        "id": "0nKJYoPByada"
      },
      "source": [
        "Slice out the first training example and pass it to this preprocessing model, you see the numeric features and string one-hots all concatenated together:"
      ]
    },
    {
      "cell_type": "code",
      "metadata": {
        "id": "SjnmU8PSv8T3"
      },
      "source": [
        "features_dict = {name:values[:1] for name, values in titanic_features_dict.items()}\n",
        "titanic_preprocessing(features_dict)"
      ],
      "execution_count": null,
      "outputs": []
    },
    {
      "cell_type": "markdown",
      "metadata": {
        "id": "qkBf4LvmzMDp"
      },
      "source": [
        "Now build the model on top of this:"
      ]
    },
    {
      "cell_type": "code",
      "metadata": {
        "id": "coIPtGaCzUV7"
      },
      "source": [
        "def titanic_model(preprocessing_head, inputs):\n",
        "  body = tf.keras.Sequential([\n",
        "    layers.Dense(64),\n",
        "    layers.Dense(1)\n",
        "  ])\n",
        "\n",
        "  preprocessed_inputs = preprocessing_head(inputs)\n",
        "  result = body(preprocessed_inputs)\n",
        "  model = tf.keras.Model(inputs, result)\n",
        "\n",
        "  model.compile(loss=tf.losses.BinaryCrossentropy(from_logits=True),\n",
        "                optimizer=tf.optimizers.Adam())\n",
        "  return model\n",
        "\n",
        "titanic_model = titanic_model(titanic_preprocessing, inputs)"
      ],
      "execution_count": null,
      "outputs": []
    },
    {
      "cell_type": "markdown",
      "metadata": {
        "id": "LK5uBQQF2KbZ"
      },
      "source": [
        "When you train the model, pass the dictionary of features as `x`, and the label as `y`."
      ]
    },
    {
      "cell_type": "code",
      "metadata": {
        "id": "D1gVfwJ61ejz"
      },
      "source": [
        "titanic_model.fit(x=titanic_features_dict, y=titanic_labels, epochs=10)"
      ],
      "execution_count": null,
      "outputs": []
    },
    {
      "cell_type": "markdown",
      "metadata": {
        "id": "LxgJarZk3bfH"
      },
      "source": [
        "Since the preprocessing is part of the model, you can save the model and reload it somewhere else and get identical results:"
      ]
    },
    {
      "cell_type": "code",
      "metadata": {
        "id": "Ay-8ymNA2ZCh"
      },
      "source": [
        "titanic_model.save('test')\n",
        "reloaded = tf.keras.models.load_model('test')"
      ],
      "execution_count": null,
      "outputs": []
    },
    {
      "cell_type": "code",
      "metadata": {
        "id": "Qm6jMTpD20lK"
      },
      "source": [
        "features_dict = {name:values[:1] for name, values in titanic_features_dict.items()}\n",
        "\n",
        "before = titanic_model(features_dict)\n",
        "after = reloaded(features_dict)\n",
        "assert (before-after)<1e-3\n",
        "print(before)\n",
        "print(after)"
      ],
      "execution_count": null,
      "outputs": []
    },
    {
      "cell_type": "markdown",
      "metadata": {
        "id": "7VsPlxIRZpXf"
      },
      "source": [
        "## Using tf.data\n"
      ]
    },
    {
      "cell_type": "markdown",
      "metadata": {
        "id": "NyVDCwGzR5HW"
      },
      "source": [
        "In the previous section you relied on the model's built-in data shuffling and batching while training the model. \n",
        "\n",
        "If you need more control over the input data pipeline or need to use data that doesn't easily fit into memory: use `tf.data`. \n",
        "\n",
        "For more examples see the [tf.data guide](../../guide/data.ipynb)."
      ]
    },
    {
      "cell_type": "markdown",
      "metadata": {
        "id": "gP5Y1jM2Sor0"
      },
      "source": [
        "### On in memory data\n",
        "\n",
        "As a first example of applying `tf.data` to CSV data consider the following code to manually slice up the dictionary of features from the previous section. For each index, it takes that index for each feature:\n"
      ]
    },
    {
      "cell_type": "code",
      "metadata": {
        "id": "i8wE-MVuVu7_"
      },
      "source": [
        "import itertools\n",
        "\n",
        "def slices(features):\n",
        "  for i in itertools.count():\n",
        "    # For each feature take index `i`\n",
        "    example = {name:values[i] for name, values in features.items()}\n",
        "    yield example"
      ],
      "execution_count": null,
      "outputs": []
    },
    {
      "cell_type": "markdown",
      "metadata": {
        "id": "cQ3RTbS9YEal"
      },
      "source": [
        "Run this and print the first example:"
      ]
    },
    {
      "cell_type": "code",
      "metadata": {
        "id": "Wwq8XK88WwFk"
      },
      "source": [
        "for example in slices(titanic_features_dict):\n",
        "  for name, value in example.items():\n",
        "    print(f\"{name:19s}: {value}\")\n",
        "  break"
      ],
      "execution_count": null,
      "outputs": []
    },
    {
      "cell_type": "markdown",
      "metadata": {
        "id": "vvp8Dct6YOIE"
      },
      "source": [
        "The most basic `tf.data.Dataset` in memory data loader is the `Dataset.from_tensor_slices` constructor. This returns a `tf.data.Dataset` that implements a generalized version of the above `slices` function, in TensorFlow. "
      ]
    },
    {
      "cell_type": "code",
      "metadata": {
        "id": "2gEJthslYxeV"
      },
      "source": [
        "features_ds = tf.data.Dataset.from_tensor_slices(titanic_features_dict)"
      ],
      "execution_count": null,
      "outputs": []
    },
    {
      "cell_type": "markdown",
      "metadata": {
        "id": "-ZC0rTpMZMZK"
      },
      "source": [
        "You can iterate over a `tf.data.Dataset` like any other python iterable:"
      ]
    },
    {
      "cell_type": "code",
      "metadata": {
        "id": "gOHbiefaY4ag"
      },
      "source": [
        "for example in features_ds:\n",
        "  for name, value in example.items():\n",
        "    print(f\"{name:19s}: {value}\")\n",
        "  break"
      ],
      "execution_count": null,
      "outputs": []
    },
    {
      "cell_type": "markdown",
      "metadata": {
        "id": "uwcFoVJWZY5F"
      },
      "source": [
        "The `from_tensor_slices` function can handle any structure of nested dictionaries or tuples. The following code makes a dataset of `(features_dict, labels)` pairs:"
      ]
    },
    {
      "cell_type": "code",
      "metadata": {
        "id": "xIHGBy76Zcrx"
      },
      "source": [
        "titanic_ds = tf.data.Dataset.from_tensor_slices((titanic_features_dict, titanic_labels))"
      ],
      "execution_count": null,
      "outputs": []
    },
    {
      "cell_type": "markdown",
      "metadata": {
        "id": "gQwxitt8c2GK"
      },
      "source": [
        "To train a model using this `Dataset`, you'll need to at least `shuffle` and `batch` the data."
      ]
    },
    {
      "cell_type": "code",
      "metadata": {
        "id": "SbJcbldhddeC"
      },
      "source": [
        "titanic_batches = titanic_ds.shuffle(len(titanic_labels)).batch(32)"
      ],
      "execution_count": null,
      "outputs": []
    },
    {
      "cell_type": "markdown",
      "metadata": {
        "id": "-4FRqhRFuoJx"
      },
      "source": [
        "Instead of passing `features` and `labels` to `Model.fit`, you pass the dataset:"
      ]
    },
    {
      "cell_type": "code",
      "metadata": {
        "id": "8yXkNPumdBtB"
      },
      "source": [
        "titanic_model.fit(titanic_batches, epochs=5)"
      ],
      "execution_count": null,
      "outputs": []
    },
    {
      "cell_type": "markdown",
      "metadata": {
        "id": "qXuibiv9exT7"
      },
      "source": [
        "### From a single file\n",
        "\n",
        "So far this tutorial has worked with in-memory data. `tf.data` is a highly scalable toolkit for building data pipelines, and provides a few functions for dealing loading CSV files. "
      ]
    },
    {
      "cell_type": "code",
      "metadata": {
        "id": "Ncf5t6tgL5ZI"
      },
      "source": [
        "titanic_file_path = tf.keras.utils.get_file(\"train.csv\", \"https://storage.googleapis.com/tf-datasets/titanic/train.csv\")"
      ],
      "execution_count": null,
      "outputs": []
    },
    {
      "cell_type": "markdown",
      "metadata": {
        "id": "t4N-plO4tDXd"
      },
      "source": [
        "Now read the CSV data from the file and create a `tf.data.Dataset`. \n",
        "\n",
        "(For the full documentation, see `tf.data.experimental.make_csv_dataset`)\n"
      ]
    },
    {
      "cell_type": "code",
      "metadata": {
        "id": "yIbUscB9sqha"
      },
      "source": [
        "titanic_csv_ds = tf.data.experimental.make_csv_dataset(\n",
        "    titanic_file_path,\n",
        "    batch_size=5, # Artificially small to make examples easier to show.\n",
        "    label_name='survived',\n",
        "    num_epochs=1,\n",
        "    ignore_errors=True,)"
      ],
      "execution_count": null,
      "outputs": []
    },
    {
      "cell_type": "markdown",
      "metadata": {
        "id": "Sf3v3BKgy4AG"
      },
      "source": [
        "This function includes many convenient features so the data is easy to work with. This includes:\n",
        "\n",
        "* Using the column headers as dictionary keys.\n",
        "* Automatically determining the type of each column."
      ]
    },
    {
      "cell_type": "code",
      "metadata": {
        "id": "v4oMO9MIxgTG"
      },
      "source": [
        "for batch, label in titanic_csv_ds.take(1):\n",
        "  for key, value in batch.items():\n",
        "    print(f\"{key:20s}: {value}\")\n",
        "  print()\n",
        "  print(f\"{'label':20s}: {label}\")"
      ],
      "execution_count": null,
      "outputs": []
    },
    {
      "cell_type": "markdown",
      "metadata": {
        "id": "k-TgA6o2Ja6U"
      },
      "source": [
        "Note: if you run the above cell twice it will produce different results. The default settings for `make_csv_dataset` include `shuffle_buffer_size=1000`, which is more than sufficient for this small dataset, but may not be for a real-world dataset."
      ]
    },
    {
      "cell_type": "markdown",
      "metadata": {
        "id": "d6uviU_KCCWD"
      },
      "source": [
        "It can also decompress the data on the fly. Here's a gzipped CSV file containing the [metro interstate traffic dataset](https://archive.ics.uci.edu/ml/datasets/Metro+Interstate+Traffic+Volume)\n",
        "\n",
        "![A traffic jam.](https://github.com/tensorflow/docs/blob/master/site/en/tutorials/load_data/images/csv/traffic.jpg?raw=1)\n",
        "\n",
        "Image [from Wikimedia](https://commons.wikimedia.org/wiki/File:Trafficjam.jpg)\n"
      ]
    },
    {
      "cell_type": "code",
      "metadata": {
        "id": "kT7oZI2E46Q8"
      },
      "source": [
        "traffic_volume_csv_gz = tf.keras.utils.get_file(\n",
        "    'Metro_Interstate_Traffic_Volume.csv.gz', \n",
        "    \"https://archive.ics.uci.edu/ml/machine-learning-databases/00492/Metro_Interstate_Traffic_Volume.csv.gz\",\n",
        "    cache_dir='.', cache_subdir='traffic')"
      ],
      "execution_count": null,
      "outputs": []
    },
    {
      "cell_type": "markdown",
      "metadata": {
        "id": "F-IOsFHbCw0i"
      },
      "source": [
        "Set the `compression_type` argument to read directly from the compressed file: "
      ]
    },
    {
      "cell_type": "code",
      "metadata": {
        "id": "ar0MPEVJ5NeA"
      },
      "source": [
        "traffic_volume_csv_gz_ds = tf.data.experimental.make_csv_dataset(\n",
        "    traffic_volume_csv_gz,\n",
        "    batch_size=256,\n",
        "    label_name='traffic_volume',\n",
        "    num_epochs=1,\n",
        "    compression_type=\"GZIP\")\n",
        "\n",
        "for batch, label in traffic_volume_csv_gz_ds.take(1):\n",
        "  for key, value in batch.items():\n",
        "    print(f\"{key:20s}: {value[:5]}\")\n",
        "  print()\n",
        "  print(f\"{'label':20s}: {label[:5]}\")"
      ],
      "execution_count": null,
      "outputs": []
    },
    {
      "cell_type": "markdown",
      "metadata": {
        "id": "p12Y6tGq8D6M"
      },
      "source": [
        "Note: If you need to parse those date-time strings in the `tf.data` pipeline you can use `tfa.text.parse_time`."
      ]
    },
    {
      "cell_type": "markdown",
      "metadata": {
        "id": "EtrAXzYGP3l0"
      },
      "source": [
        "### Caching"
      ]
    },
    {
      "cell_type": "markdown",
      "metadata": {
        "id": "fN2dL_LRP83r"
      },
      "source": [
        "There is some overhead to parsing the csv data. For small models this can be the bottleneck in training.\n",
        "\n",
        "Depending on your use case it may be a good idea to use `Dataset.cache` or `data.experimental.snapshot` so that the csv data is only parsed on the first epoch. \n",
        "\n",
        "The main difference between the `cache` and `snapshot` methods is that `cache` files can only be used by the TensorFlow process that created them, but `snapshot` files can be read by other processes.\n",
        "\n",
        "For example, iterating over the `traffic_volume_csv_gz_ds` 20 times, takes ~15 seconds without caching, or ~2s with caching."
      ]
    },
    {
      "cell_type": "code",
      "metadata": {
        "id": "Qk38Sw4MO4eh"
      },
      "source": [
        "%%time\n",
        "for i, (batch, label) in enumerate(traffic_volume_csv_gz_ds.repeat(20)):\n",
        "  if i % 40 == 0:\n",
        "    print('.', end='')\n",
        "print()"
      ],
      "execution_count": null,
      "outputs": []
    },
    {
      "cell_type": "markdown",
      "metadata": {
        "id": "pN3HtDONh5TX"
      },
      "source": [
        "Note: `Dataset.cache`  stores the data form the first epoch and replays it in order. So using `.cache` disables any shuffles earlier in the pipeline. Below the `.shuffle` is added back in after `.cache`."
      ]
    },
    {
      "cell_type": "code",
      "metadata": {
        "id": "r5Jj72MrPbnh"
      },
      "source": [
        "%%time\n",
        "caching = traffic_volume_csv_gz_ds.cache().shuffle(1000)\n",
        "\n",
        "for i, (batch, label) in enumerate(caching.shuffle(1000).repeat(20)):\n",
        "  if i % 40 == 0:\n",
        "    print('.', end='')\n",
        "print()"
      ],
      "execution_count": null,
      "outputs": []
    },
    {
      "cell_type": "markdown",
      "metadata": {
        "id": "wN7uUBjmgNZ9"
      },
      "source": [
        "Note: `snapshot` files are meant for *temporary* storage of a dataset while in use. This is *not* a format for long term storage. The file format is considered an internal detail, and not guaranteed between TensorFlow versions. "
      ]
    },
    {
      "cell_type": "code",
      "metadata": {
        "id": "PHGD1E8ktUvW"
      },
      "source": [
        "%%time\n",
        "snapshot = tf.data.experimental.snapshot('titanic.tfsnap')\n",
        "snapshotting = traffic_volume_csv_gz_ds.apply(snapshot).shuffle(1000)\n",
        "\n",
        "for i, (batch, label) in enumerate(snapshotting.shuffle(1000).repeat(20)):\n",
        "  if i % 40 == 0:\n",
        "    print('.', end='')\n",
        "print()"
      ],
      "execution_count": null,
      "outputs": []
    },
    {
      "cell_type": "markdown",
      "metadata": {
        "id": "fUSSegnMCGRz"
      },
      "source": [
        "If your data loading is slowed by loading csv files, and `cache` and `snapshot` are insufficient for your use case, consider re-encoding your data into a more streamlined format."
      ]
    },
    {
      "cell_type": "markdown",
      "metadata": {
        "id": "M0iGXv9pC5kr"
      },
      "source": [
        "### Multiple files"
      ]
    },
    {
      "cell_type": "markdown",
      "metadata": {
        "id": "9FFzHQrCDH4w"
      },
      "source": [
        "All the examples so far in this section could easily be done without `tf.data`. One place where `tf.data` can really simplify things is when dealing with collections of files.\n",
        "\n",
        "For example, the [character font images](https://archive.ics.uci.edu/ml/datasets/Character+Font+Images) dataset is distributed as a collection of csv files, one per font.\n",
        "\n",
        "![Fonts](https://github.com/tensorflow/docs/blob/master/site/en/tutorials/load_data/images/csv/fonts.jpg?raw=1)\n",
        "\n",
        "Image by <a href=\"https://pixabay.com/users/wilhei-883152/?utm_source=link-attribution&amp;utm_medium=referral&amp;utm_campaign=image&amp;utm_content=705667\">Willi Heidelbach</a> from <a href=\"https://pixabay.com/?utm_source=link-attribution&amp;utm_medium=referral&amp;utm_campaign=image&amp;utm_content=705667\">Pixabay</a>\n",
        "\n",
        "Download the dataset, and have a look at the files inside:"
      ]
    },
    {
      "cell_type": "code",
      "metadata": {
        "id": "RmVknMdJh5ks"
      },
      "source": [
        "fonts_zip = tf.keras.utils.get_file(\n",
        "    'fonts.zip',  \"https://archive.ics.uci.edu/ml/machine-learning-databases/00417/fonts.zip\",\n",
        "    cache_dir='.', cache_subdir='fonts',\n",
        "    extract=True)"
      ],
      "execution_count": null,
      "outputs": []
    },
    {
      "cell_type": "code",
      "metadata": {
        "id": "xsDlMCnyi55e"
      },
      "source": [
        "import pathlib\n",
        "font_csvs =  sorted(str(p) for p in pathlib.Path('fonts').glob(\"*.csv\"))\n",
        "\n",
        "font_csvs[:10]"
      ],
      "execution_count": null,
      "outputs": []
    },
    {
      "cell_type": "code",
      "metadata": {
        "id": "lRAEJx9ROAGl"
      },
      "source": [
        "len(font_csvs)"
      ],
      "execution_count": null,
      "outputs": []
    },
    {
      "cell_type": "markdown",
      "metadata": {
        "id": "19Udrw9iG-FS"
      },
      "source": [
        "When dealing with a bunch of files you can pass a glob-style `file_pattern` to the `experimental.make_csv_dataset` function. The order of the files is shuffled each iteration.\n",
        "\n",
        "Use the `num_parallel_reads` argument to set how many files are read in parallel and interleaved together."
      ]
    },
    {
      "cell_type": "code",
      "metadata": {
        "id": "6TSUNdT6iG58"
      },
      "source": [
        "fonts_ds = tf.data.experimental.make_csv_dataset(\n",
        "    file_pattern = \"fonts/*.csv\",\n",
        "    batch_size=10, num_epochs=1,\n",
        "    num_parallel_reads=20,\n",
        "    shuffle_buffer_size=10000)"
      ],
      "execution_count": null,
      "outputs": []
    },
    {
      "cell_type": "markdown",
      "metadata": {
        "id": "XMoexinLHYFa"
      },
      "source": [
        "These csv files have the images flattened out into a single row. The column names are formatted `r{row}c{column}`. Here's the first batch:"
      ]
    },
    {
      "cell_type": "code",
      "metadata": {
        "id": "RmFvBWxxi3pq"
      },
      "source": [
        "for features in fonts_ds.take(1):\n",
        "  for i, (name, value) in enumerate(features.items()):\n",
        "    if i>15:\n",
        "      break\n",
        "    print(f\"{name:20s}: {value}\")\n",
        "print('...')\n",
        "print(f\"[total: {len(features)} features]\")"
      ],
      "execution_count": null,
      "outputs": []
    },
    {
      "cell_type": "markdown",
      "metadata": {
        "id": "xrC3sKdeOhb5"
      },
      "source": [
        "#### Optional: Packing fields\n",
        "\n",
        "You probably don't want to work with each pixel in separate columns like this. Before trying to use this dataset be sure to pack the pixels into an image-tensor. \n",
        "\n",
        "Here is code that parses the column names to build images for each example:"
      ]
    },
    {
      "cell_type": "code",
      "metadata": {
        "id": "hct5EMEWNyfH"
      },
      "source": [
        "import re\n",
        "\n",
        "def make_images(features):\n",
        "  image = [None]*400\n",
        "  new_feats = {}\n",
        "\n",
        "  for name, value in features.items():\n",
        "    match = re.match('r(\\d+)c(\\d+)', name)\n",
        "    if match:\n",
        "      image[int(match.group(1))*20+int(match.group(2))] = value\n",
        "    else:\n",
        "      new_feats[name] = value\n",
        "\n",
        "  image = tf.stack(image, axis=0)\n",
        "  image = tf.reshape(image, [20, 20, -1])\n",
        "  new_feats['image'] = image\n",
        "\n",
        "  return new_feats"
      ],
      "execution_count": null,
      "outputs": []
    },
    {
      "cell_type": "markdown",
      "metadata": {
        "id": "61qy8utAwARP"
      },
      "source": [
        "Apply that function to each batch in the dataset:"
      ]
    },
    {
      "cell_type": "code",
      "metadata": {
        "id": "DJnnfIW9baE4"
      },
      "source": [
        "fonts_image_ds = fonts_ds.map(make_images)\n",
        "\n",
        "for features in fonts_image_ds.take(1):\n",
        "  break"
      ],
      "execution_count": null,
      "outputs": []
    },
    {
      "cell_type": "markdown",
      "metadata": {
        "id": "_ThqrthGwHSm"
      },
      "source": [
        "Plot the resulting images:"
      ]
    },
    {
      "cell_type": "code",
      "metadata": {
        "id": "I5dcey31T_tk"
      },
      "source": [
        "from matplotlib import pyplot as plt\n",
        "\n",
        "plt.figure(figsize=(6,6), dpi=120)\n",
        "\n",
        "for n in range(9):\n",
        "  plt.subplot(3,3,n+1)\n",
        "  plt.imshow(features['image'][..., n])\n",
        "  plt.title(chr(features['m_label'][n]))\n",
        "  plt.axis('off')"
      ],
      "execution_count": null,
      "outputs": []
    },
    {
      "cell_type": "markdown",
      "metadata": {
        "id": "7-nNR0Nncdd1"
      },
      "source": [
        "## Lower level functions"
      ]
    },
    {
      "cell_type": "markdown",
      "metadata": {
        "id": "3jiGZeUijJNd"
      },
      "source": [
        "So far this tutorial has focused on the highest level utilities for reading csv data. There are other two APIs that may be helpful for advanced users if your use-case doesn't fit the basic patterns.\n",
        "\n",
        "* `tf.io.decode_csv` - a function for parsing lines of text into a list of CSV column tensors.\n",
        "* `tf.data.experimental.CsvDataset` - a lower level csv dataset constructor.\n",
        "\n",
        "This section recreates functionality provided by `make_csv_dataset`, to demonstrate how this lower level functionality can be used.\n"
      ]
    },
    {
      "cell_type": "markdown",
      "metadata": {
        "id": "LL_ixywomOHW"
      },
      "source": [
        "### `tf.io.decode_csv`\n",
        "\n",
        "This function decodes a string, or list of strings into a list of columns.\n",
        "\n",
        "Unlike `make_csv_dataset` this function does not try to guess column data-types. You specify the column types by providing a list of `record_defaults` containing a value of the correct type, for each column.\n",
        "\n",
        "To read the Titanic data **as strings** using `decode_csv` you would say: "
      ]
    },
    {
      "cell_type": "code",
      "metadata": {
        "id": "m1D2C-qdlqeW"
      },
      "source": [
        "text = pathlib.Path(titanic_file_path).read_text()\n",
        "lines = text.split('\\n')[1:-1]\n",
        "\n",
        "all_strings = [str()]*10\n",
        "all_strings"
      ],
      "execution_count": null,
      "outputs": []
    },
    {
      "cell_type": "code",
      "metadata": {
        "id": "9W4UeJYyHPx5"
      },
      "source": [
        "features = tf.io.decode_csv(lines, record_defaults=all_strings) \n",
        "\n",
        "for f in features:\n",
        "  print(f\"type: {f.dtype.name}, shape: {f.shape}\")"
      ],
      "execution_count": null,
      "outputs": []
    },
    {
      "cell_type": "markdown",
      "metadata": {
        "id": "j8TaHSQFoQL4"
      },
      "source": [
        "To parse them with their actual types, create a list of `record_defaults` of the corresponding types: "
      ]
    },
    {
      "cell_type": "code",
      "metadata": {
        "id": "rzUjR59yoUe1"
      },
      "source": [
        "print(lines[0])"
      ],
      "execution_count": null,
      "outputs": []
    },
    {
      "cell_type": "code",
      "metadata": {
        "id": "7sPTunxwoeWU"
      },
      "source": [
        "titanic_types = [int(), str(), float(), int(), int(), float(), str(), str(), str(), str()]\n",
        "titanic_types"
      ],
      "execution_count": null,
      "outputs": []
    },
    {
      "cell_type": "code",
      "metadata": {
        "id": "n3NlViCzoB7F"
      },
      "source": [
        "features = tf.io.decode_csv(lines, record_defaults=titanic_types) \n",
        "\n",
        "for f in features:\n",
        "  print(f\"type: {f.dtype.name}, shape: {f.shape}\")"
      ],
      "execution_count": null,
      "outputs": []
    },
    {
      "cell_type": "markdown",
      "metadata": {
        "id": "m-LkTUTnpn2P"
      },
      "source": [
        "Note: it is more efficient to call `decode_csv` on large batches of lines than on individual lines of csv text."
      ]
    },
    {
      "cell_type": "markdown",
      "metadata": {
        "id": "Yp1UItJmqGqw"
      },
      "source": [
        "### `tf.data.experimental.CsvDataset`\n",
        "\n",
        "The `tf.data.experimental.CsvDataset` class provides a minimal CSV `Dataset` interface without the convenience features of the `make_csv_dataset` function: column header parsing, column type-inference, automatic shuffling, file interleaving.\n",
        "\n",
        "This constructor follows uses `record_defaults` the same way as `io.parse_csv`:\n"
      ]
    },
    {
      "cell_type": "code",
      "metadata": {
        "id": "9OzZLp3krP-t"
      },
      "source": [
        "simple_titanic = tf.data.experimental.CsvDataset(titanic_file_path, record_defaults=titanic_types, header=True)\n",
        "\n",
        "for example in simple_titanic.take(1):\n",
        "  print([e.numpy() for e in example])"
      ],
      "execution_count": null,
      "outputs": []
    },
    {
      "cell_type": "markdown",
      "metadata": {
        "id": "_HBmfI-Ks7dw"
      },
      "source": [
        "The above code is basically equivalent to:"
      ]
    },
    {
      "cell_type": "code",
      "metadata": {
        "id": "E5O5d69Yq7gG"
      },
      "source": [
        "def decode_titanic_line(line):\n",
        "  return tf.io.decode_csv(line, titanic_types)\n",
        "\n",
        "manual_titanic = (\n",
        "    # Load the lines of text\n",
        "    tf.data.TextLineDataset(titanic_file_path)\n",
        "    # Skip the header row.\n",
        "    .skip(1)\n",
        "    # Decode the line.\n",
        "    .map(decode_titanic_line)\n",
        ")\n",
        "\n",
        "for example in manual_titanic.take(1):\n",
        "  print([e.numpy() for e in example])"
      ],
      "execution_count": null,
      "outputs": []
    },
    {
      "cell_type": "markdown",
      "metadata": {
        "id": "5R3ralsnt2AC"
      },
      "source": [
        "#### Multiple files\n",
        "\n",
        "To parse the fonts dataset using `experimental.CsvDataset`, you first need to determine the column types for the `record_defaults`. Start by inspecting the first row of one file: "
      ]
    },
    {
      "cell_type": "code",
      "metadata": {
        "id": "3tlFOTjCvAI5"
      },
      "source": [
        "font_line = pathlib.Path(font_csvs[0]).read_text().splitlines()[1]\n",
        "print(font_line)"
      ],
      "execution_count": null,
      "outputs": []
    },
    {
      "cell_type": "markdown",
      "metadata": {
        "id": "etyGu8K_ySRz"
      },
      "source": [
        "Only the first two fields are strings, the rest are ints or floats, and you can get the total number of features by counting the commas:"
      ]
    },
    {
      "cell_type": "code",
      "metadata": {
        "id": "crgZZn0BzkSB"
      },
      "source": [
        "num_font_features = font_line.count(',')+1\n",
        "font_column_types = [str(), str()] + [float()]*(num_font_features-2)"
      ],
      "execution_count": null,
      "outputs": []
    },
    {
      "cell_type": "markdown",
      "metadata": {
        "id": "YeK2Pw540RNj"
      },
      "source": [
        "The `CsvDatasaet` constructor can take a list of input files, but reads them sequentially. The first file in the list of CSVs is `AGENCY.csv`:"
      ]
    },
    {
      "cell_type": "code",
      "metadata": {
        "id": "_SvL5Uvl0r0N"
      },
      "source": [
        "font_csvs[0]"
      ],
      "execution_count": null,
      "outputs": []
    },
    {
      "cell_type": "markdown",
      "metadata": {
        "id": "EfAX3G8Xywy6"
      },
      "source": [
        "So when you pass pass the list of files to `CsvDataaset` the records from `AGENCY.csv` are read first:"
      ]
    },
    {
      "cell_type": "code",
      "metadata": {
        "id": "Gtr1E66VmBqj"
      },
      "source": [
        "simple_font_ds = tf.data.experimental.CsvDataset(\n",
        "    font_csvs, \n",
        "    record_defaults=font_column_types, \n",
        "    header=True)"
      ],
      "execution_count": null,
      "outputs": []
    },
    {
      "cell_type": "code",
      "metadata": {
        "id": "k750Mgq4yt_o"
      },
      "source": [
        "for row in simple_font_ds.take(10):\n",
        "  print(row[0].numpy())"
      ],
      "execution_count": null,
      "outputs": []
    },
    {
      "cell_type": "markdown",
      "metadata": {
        "id": "NiqWKQV21FrE"
      },
      "source": [
        "To interleave multiple files, use `Dataset.interleave`.\n",
        "\n",
        "Here's an initial dataset that contains the csv file names: "
      ]
    },
    {
      "cell_type": "code",
      "metadata": {
        "id": "t9dS3SNb23W8"
      },
      "source": [
        "font_files = tf.data.Dataset.list_files(\"fonts/*.csv\")"
      ],
      "execution_count": null,
      "outputs": []
    },
    {
      "cell_type": "markdown",
      "metadata": {
        "id": "TNiLHMXpzHy5"
      },
      "source": [
        "This shuffles the file names each epoch:"
      ]
    },
    {
      "cell_type": "code",
      "metadata": {
        "id": "zNd-TYyNzIgg"
      },
      "source": [
        "print('Epoch 1:')\n",
        "for f in list(font_files)[:5]:\n",
        "  print(\"    \", f.numpy())\n",
        "print('    ...')\n",
        "print()\n",
        "\n",
        "print('Epoch 2:')\n",
        "for f in list(font_files)[:5]:\n",
        "  print(\"    \", f.numpy())\n",
        "print('    ...')"
      ],
      "execution_count": null,
      "outputs": []
    },
    {
      "cell_type": "markdown",
      "metadata": {
        "id": "B0QB1PtU3WAN"
      },
      "source": [
        "The `interleave` method takes a `map_func` that creates a child-`Dataset` for each element of the parent-`Dataset`. \n",
        "\n",
        "Here, you want to create a `CsvDataset` from each element of the dataset of files:"
      ]
    },
    {
      "cell_type": "code",
      "metadata": {
        "id": "QWp4rH0Q4uPh"
      },
      "source": [
        "def make_font_csv_ds(path):\n",
        "  return tf.data.experimental.CsvDataset(\n",
        "    path, \n",
        "    record_defaults=font_column_types, \n",
        "    header=True)"
      ],
      "execution_count": null,
      "outputs": []
    },
    {
      "cell_type": "markdown",
      "metadata": {
        "id": "VxRGdLMB5nRF"
      },
      "source": [
        "The `Dataset` returned by interleave returns elements by cycling over a number of the child-`Dataset`s. Note, below, how the dataset cycles over `cycle_length)=3` three font files:"
      ]
    },
    {
      "cell_type": "code",
      "metadata": {
        "id": "OePMNF_x1_Cc"
      },
      "source": [
        "font_rows = font_files.interleave(make_font_csv_ds,\n",
        "                                  cycle_length=3)"
      ],
      "execution_count": null,
      "outputs": []
    },
    {
      "cell_type": "code",
      "metadata": {
        "id": "UORIGWLy54-E"
      },
      "source": [
        "fonts_dict = {'font_name':[], 'character':[]}\n",
        "\n",
        "for row in font_rows.take(10):\n",
        "  fonts_dict['font_name'].append(row[0].numpy().decode())\n",
        "  fonts_dict['character'].append(chr(row[2].numpy()))\n",
        "\n",
        "pd.DataFrame(fonts_dict)"
      ],
      "execution_count": null,
      "outputs": []
    },
    {
      "cell_type": "markdown",
      "metadata": {
        "id": "mkKZa_HX8zAm"
      },
      "source": [
        "#### Performance\n"
      ]
    },
    {
      "cell_type": "markdown",
      "metadata": {
        "id": "8BtGHraUApdJ"
      },
      "source": [
        "Earlier, it was noted that `io.decode_csv` is more efficient when run on a batch of strings.\n",
        "\n",
        "It is possible to take advantage of this fact, when using large batch sizes, to improve CSV loading performance (but try [caching](#caching) first)."
      ]
    },
    {
      "cell_type": "markdown",
      "metadata": {
        "id": "d35zWMH7MDL1"
      },
      "source": [
        "With the built-in loader 20, 2048-example batches take about 17s. "
      ]
    },
    {
      "cell_type": "code",
      "metadata": {
        "id": "ieUVAPryjpJS"
      },
      "source": [
        "BATCH_SIZE=2048\n",
        "fonts_ds = tf.data.experimental.make_csv_dataset(\n",
        "    file_pattern = \"fonts/*.csv\",\n",
        "    batch_size=BATCH_SIZE, num_epochs=1,\n",
        "    num_parallel_reads=100)"
      ],
      "execution_count": null,
      "outputs": []
    },
    {
      "cell_type": "code",
      "metadata": {
        "id": "MUC2KW4LkQIz"
      },
      "source": [
        "%%time\n",
        "for i,batch in enumerate(fonts_ds.take(20)):\n",
        "  print('.',end='')\n",
        "\n",
        "print()"
      ],
      "execution_count": null,
      "outputs": []
    },
    {
      "cell_type": "markdown",
      "metadata": {
        "id": "5lhnh6rZEDS2"
      },
      "source": [
        "Passing **batches of text lines** to`decode_csv` runs faster, in about 5s:"
      ]
    },
    {
      "cell_type": "code",
      "metadata": {
        "id": "4XbPZV1okVF9"
      },
      "source": [
        "fonts_files = tf.data.Dataset.list_files(\"fonts/*.csv\")\n",
        "fonts_lines = fonts_files.interleave(\n",
        "    lambda fname:tf.data.TextLineDataset(fname).skip(1), \n",
        "    cycle_length=100).batch(BATCH_SIZE)\n",
        "\n",
        "fonts_fast = fonts_lines.map(lambda x: tf.io.decode_csv(x, record_defaults=font_column_types))"
      ],
      "execution_count": null,
      "outputs": []
    },
    {
      "cell_type": "code",
      "metadata": {
        "id": "te9C2km-qO8W"
      },
      "source": [
        "%%time\n",
        "for i,batch in enumerate(fonts_fast.take(20)):\n",
        "  print('.',end='')\n",
        "\n",
        "print()"
      ],
      "execution_count": null,
      "outputs": []
    },
    {
      "cell_type": "markdown",
      "metadata": {
        "id": "aebC1plsMeOi"
      },
      "source": [
        "For another example of increasing csv performance by using large batches see the [overfit and underfit tutorial](../keras/overfit_and_underfit.ipynb).\n",
        "\n",
        "This sort of approach may work, but consider other options like `cache` and `snapshot`, or re-enncoding your data into a more streamlined format."
      ]
    }
  ]
}